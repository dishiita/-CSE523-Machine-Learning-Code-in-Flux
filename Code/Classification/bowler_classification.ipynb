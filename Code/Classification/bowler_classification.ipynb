{
  "nbformat": 4,
  "nbformat_minor": 0,
  "metadata": {
    "colab": {
      "name": "bowler_classification.ipynb",
      "provenance": [],
      "collapsed_sections": [],
      "toc_visible": true
    },
    "kernelspec": {
      "name": "python3",
      "display_name": "Python 3"
    }
  },
  "cells": [
    {
      "cell_type": "markdown",
      "metadata": {
        "id": "PJ3qS_BfTmvd"
      },
      "source": [
        "# Classification of players into points"
      ]
    },
    {
      "cell_type": "code",
      "metadata": {
        "id": "saZqLMvD4V2W",
        "colab": {
          "base_uri": "https://localhost:8080/"
        },
        "outputId": "6ab953f5-d574-48be-fe67-44f6594faadf"
      },
      "source": [
        "import random \n",
        "import numpy as np \n",
        "import pandas as pd\n",
        "import matplotlib.pyplot as plt\n",
        "from time import time \n",
        "from sklearn.cluster import KMeans \n",
        "from sklearn.datasets.samples_generator import make_blobs \n",
        "from sklearn.neighbors import KNeighborsClassifier\n",
        "from sklearn import preprocessing\n",
        "from sklearn.ensemble import RandomForestClassifier\n",
        "from sklearn.model_selection import GridSearchCV\n",
        "from sklearn.metrics import classification_report,confusion_matrix\n",
        "import itertools\n",
        "%matplotlib inline"
      ],
      "execution_count": null,
      "outputs": [
        {
          "output_type": "stream",
          "text": [
            "/usr/local/lib/python3.7/dist-packages/sklearn/utils/deprecation.py:144: FutureWarning: The sklearn.datasets.samples_generator module is  deprecated in version 0.22 and will be removed in version 0.24. The corresponding classes / functions should instead be imported from sklearn.datasets. Anything that cannot be imported from sklearn.datasets is now part of the private API.\n",
            "  warnings.warn(message, FutureWarning)\n"
          ],
          "name": "stderr"
        }
      ]
    },
    {
      "cell_type": "markdown",
      "metadata": {
        "id": "GhVMWzoGT3nx"
      },
      "source": [
        "1. Read Data from file with clustered points"
      ]
    },
    {
      "cell_type": "code",
      "metadata": {
        "colab": {
          "base_uri": "https://localhost:8080/",
          "height": 842
        },
        "id": "YNv-dqYXFcoJ",
        "outputId": "d5dd5166-999b-4fd6-fbbe-db6f63d600a7"
      },
      "source": [
        "df_new = pd.read_csv('bowler_clusters.csv')\n",
        "df_new"
      ],
      "execution_count": null,
      "outputs": [
        {
          "output_type": "execute_result",
          "data": {
            "text/html": [
              "<div>\n",
              "<style scoped>\n",
              "    .dataframe tbody tr th:only-of-type {\n",
              "        vertical-align: middle;\n",
              "    }\n",
              "\n",
              "    .dataframe tbody tr th {\n",
              "        vertical-align: top;\n",
              "    }\n",
              "\n",
              "    .dataframe thead th {\n",
              "        text-align: right;\n",
              "    }\n",
              "</style>\n",
              "<table border=\"1\" class=\"dataframe\">\n",
              "  <thead>\n",
              "    <tr style=\"text-align: right;\">\n",
              "      <th></th>\n",
              "      <th>match_id</th>\n",
              "      <th>bowler</th>\n",
              "      <th>inning</th>\n",
              "      <th>batting_team</th>\n",
              "      <th>total_bowler_runs</th>\n",
              "      <th>maiden</th>\n",
              "      <th>economy</th>\n",
              "      <th>overs</th>\n",
              "      <th>wickets</th>\n",
              "      <th>venue</th>\n",
              "      <th>catch</th>\n",
              "      <th>Direct_runout</th>\n",
              "      <th>Indirect_runout</th>\n",
              "      <th>Stumping</th>\n",
              "      <th>lbw/bowled</th>\n",
              "      <th>fp_points</th>\n",
              "      <th>fp_avg</th>\n",
              "      <th>opp_avg</th>\n",
              "      <th>ven_avg</th>\n",
              "      <th>inn_avg</th>\n",
              "      <th>run_avg</th>\n",
              "      <th>eco_avg</th>\n",
              "      <th>maiden_avg</th>\n",
              "      <th>wicket_avg</th>\n",
              "      <th>over_avg</th>\n",
              "      <th>Points</th>\n",
              "    </tr>\n",
              "  </thead>\n",
              "  <tbody>\n",
              "    <tr>\n",
              "      <th>0</th>\n",
              "      <td>1</td>\n",
              "      <td>P Kumar</td>\n",
              "      <td>1</td>\n",
              "      <td>Kolkata Knight Riders</td>\n",
              "      <td>38.0</td>\n",
              "      <td>0.0</td>\n",
              "      <td>9.500000</td>\n",
              "      <td>4</td>\n",
              "      <td>0</td>\n",
              "      <td>M Chinnaswamy Stadium</td>\n",
              "      <td>1.0</td>\n",
              "      <td>0.0</td>\n",
              "      <td>0.0</td>\n",
              "      <td>0.0</td>\n",
              "      <td>0.0</td>\n",
              "      <td>8.0</td>\n",
              "      <td>0.000000</td>\n",
              "      <td>8.000000</td>\n",
              "      <td>8.000000</td>\n",
              "      <td>8.000000</td>\n",
              "      <td>38.000000</td>\n",
              "      <td>9.500000</td>\n",
              "      <td>0.000000</td>\n",
              "      <td>0.000000</td>\n",
              "      <td>4.000000</td>\n",
              "      <td>0</td>\n",
              "    </tr>\n",
              "    <tr>\n",
              "      <th>1</th>\n",
              "      <td>1</td>\n",
              "      <td>I Sharma</td>\n",
              "      <td>2</td>\n",
              "      <td>Royal Challengers Bangalore</td>\n",
              "      <td>7.0</td>\n",
              "      <td>0.0</td>\n",
              "      <td>2.333333</td>\n",
              "      <td>3</td>\n",
              "      <td>1</td>\n",
              "      <td>M Chinnaswamy Stadium</td>\n",
              "      <td>0.0</td>\n",
              "      <td>0.0</td>\n",
              "      <td>0.0</td>\n",
              "      <td>0.0</td>\n",
              "      <td>1.0</td>\n",
              "      <td>39.0</td>\n",
              "      <td>0.000000</td>\n",
              "      <td>39.000000</td>\n",
              "      <td>39.000000</td>\n",
              "      <td>39.000000</td>\n",
              "      <td>7.000000</td>\n",
              "      <td>2.333333</td>\n",
              "      <td>0.000000</td>\n",
              "      <td>1.000000</td>\n",
              "      <td>3.000000</td>\n",
              "      <td>2</td>\n",
              "    </tr>\n",
              "    <tr>\n",
              "      <th>2</th>\n",
              "      <td>1</td>\n",
              "      <td>AB Agarkar</td>\n",
              "      <td>2</td>\n",
              "      <td>Royal Challengers Bangalore</td>\n",
              "      <td>25.0</td>\n",
              "      <td>0.0</td>\n",
              "      <td>6.250000</td>\n",
              "      <td>4</td>\n",
              "      <td>3</td>\n",
              "      <td>M Chinnaswamy Stadium</td>\n",
              "      <td>0.0</td>\n",
              "      <td>0.0</td>\n",
              "      <td>1.0</td>\n",
              "      <td>0.0</td>\n",
              "      <td>0.0</td>\n",
              "      <td>87.0</td>\n",
              "      <td>0.000000</td>\n",
              "      <td>87.000000</td>\n",
              "      <td>87.000000</td>\n",
              "      <td>87.000000</td>\n",
              "      <td>25.000000</td>\n",
              "      <td>6.250000</td>\n",
              "      <td>0.000000</td>\n",
              "      <td>3.000000</td>\n",
              "      <td>4.000000</td>\n",
              "      <td>3</td>\n",
              "    </tr>\n",
              "    <tr>\n",
              "      <th>3</th>\n",
              "      <td>1</td>\n",
              "      <td>AB Dinda</td>\n",
              "      <td>2</td>\n",
              "      <td>Royal Challengers Bangalore</td>\n",
              "      <td>9.0</td>\n",
              "      <td>0.0</td>\n",
              "      <td>3.000000</td>\n",
              "      <td>3</td>\n",
              "      <td>2</td>\n",
              "      <td>M Chinnaswamy Stadium</td>\n",
              "      <td>0.0</td>\n",
              "      <td>0.0</td>\n",
              "      <td>0.0</td>\n",
              "      <td>0.0</td>\n",
              "      <td>1.0</td>\n",
              "      <td>64.0</td>\n",
              "      <td>0.000000</td>\n",
              "      <td>64.000000</td>\n",
              "      <td>64.000000</td>\n",
              "      <td>64.000000</td>\n",
              "      <td>9.000000</td>\n",
              "      <td>3.000000</td>\n",
              "      <td>0.000000</td>\n",
              "      <td>2.000000</td>\n",
              "      <td>3.000000</td>\n",
              "      <td>2</td>\n",
              "    </tr>\n",
              "    <tr>\n",
              "      <th>4</th>\n",
              "      <td>1</td>\n",
              "      <td>Z Khan</td>\n",
              "      <td>1</td>\n",
              "      <td>Kolkata Knight Riders</td>\n",
              "      <td>38.0</td>\n",
              "      <td>0.0</td>\n",
              "      <td>9.500000</td>\n",
              "      <td>4</td>\n",
              "      <td>1</td>\n",
              "      <td>M Chinnaswamy Stadium</td>\n",
              "      <td>0.0</td>\n",
              "      <td>0.0</td>\n",
              "      <td>0.0</td>\n",
              "      <td>0.0</td>\n",
              "      <td>0.0</td>\n",
              "      <td>25.0</td>\n",
              "      <td>0.000000</td>\n",
              "      <td>25.000000</td>\n",
              "      <td>25.000000</td>\n",
              "      <td>25.000000</td>\n",
              "      <td>38.000000</td>\n",
              "      <td>9.500000</td>\n",
              "      <td>0.000000</td>\n",
              "      <td>1.000000</td>\n",
              "      <td>4.000000</td>\n",
              "      <td>0</td>\n",
              "    </tr>\n",
              "    <tr>\n",
              "      <th>...</th>\n",
              "      <td>...</td>\n",
              "      <td>...</td>\n",
              "      <td>...</td>\n",
              "      <td>...</td>\n",
              "      <td>...</td>\n",
              "      <td>...</td>\n",
              "      <td>...</td>\n",
              "      <td>...</td>\n",
              "      <td>...</td>\n",
              "      <td>...</td>\n",
              "      <td>...</td>\n",
              "      <td>...</td>\n",
              "      <td>...</td>\n",
              "      <td>...</td>\n",
              "      <td>...</td>\n",
              "      <td>...</td>\n",
              "      <td>...</td>\n",
              "      <td>...</td>\n",
              "      <td>...</td>\n",
              "      <td>...</td>\n",
              "      <td>...</td>\n",
              "      <td>...</td>\n",
              "      <td>...</td>\n",
              "      <td>...</td>\n",
              "      <td>...</td>\n",
              "      <td>...</td>\n",
              "    </tr>\n",
              "    <tr>\n",
              "      <th>5324</th>\n",
              "      <td>786</td>\n",
              "      <td>A Nortje</td>\n",
              "      <td>2</td>\n",
              "      <td>Rajasthan Royals</td>\n",
              "      <td>33.0</td>\n",
              "      <td>0.0</td>\n",
              "      <td>8.250000</td>\n",
              "      <td>4</td>\n",
              "      <td>2</td>\n",
              "      <td>Dubai International Cricket Stadium</td>\n",
              "      <td>0.0</td>\n",
              "      <td>0.0</td>\n",
              "      <td>0.0</td>\n",
              "      <td>0.0</td>\n",
              "      <td>2.0</td>\n",
              "      <td>66.0</td>\n",
              "      <td>30.333333</td>\n",
              "      <td>46.500000</td>\n",
              "      <td>47.500000</td>\n",
              "      <td>44.857143</td>\n",
              "      <td>29.375000</td>\n",
              "      <td>7.343750</td>\n",
              "      <td>0.000000</td>\n",
              "      <td>1.250000</td>\n",
              "      <td>4.000000</td>\n",
              "      <td>0</td>\n",
              "    </tr>\n",
              "    <tr>\n",
              "      <th>5325</th>\n",
              "      <td>786</td>\n",
              "      <td>JD Unadkat</td>\n",
              "      <td>1</td>\n",
              "      <td>Delhi Capitals</td>\n",
              "      <td>32.0</td>\n",
              "      <td>0.0</td>\n",
              "      <td>10.666667</td>\n",
              "      <td>3</td>\n",
              "      <td>2</td>\n",
              "      <td>Dubai International Cricket Stadium</td>\n",
              "      <td>0.0</td>\n",
              "      <td>0.0</td>\n",
              "      <td>0.0</td>\n",
              "      <td>0.0</td>\n",
              "      <td>0.0</td>\n",
              "      <td>48.0</td>\n",
              "      <td>30.333333</td>\n",
              "      <td>24.000000</td>\n",
              "      <td>33.200000</td>\n",
              "      <td>37.250000</td>\n",
              "      <td>30.435897</td>\n",
              "      <td>8.876068</td>\n",
              "      <td>0.038462</td>\n",
              "      <td>1.128205</td>\n",
              "      <td>3.500000</td>\n",
              "      <td>1</td>\n",
              "    </tr>\n",
              "    <tr>\n",
              "      <th>5326</th>\n",
              "      <td>786</td>\n",
              "      <td>JC Archer</td>\n",
              "      <td>1</td>\n",
              "      <td>Delhi Capitals</td>\n",
              "      <td>19.0</td>\n",
              "      <td>0.0</td>\n",
              "      <td>4.750000</td>\n",
              "      <td>4</td>\n",
              "      <td>3</td>\n",
              "      <td>Dubai International Cricket Stadium</td>\n",
              "      <td>2.0</td>\n",
              "      <td>0.0</td>\n",
              "      <td>0.0</td>\n",
              "      <td>0.0</td>\n",
              "      <td>1.0</td>\n",
              "      <td>109.0</td>\n",
              "      <td>47.000000</td>\n",
              "      <td>63.333333</td>\n",
              "      <td>66.666667</td>\n",
              "      <td>55.789474</td>\n",
              "      <td>28.482759</td>\n",
              "      <td>7.160920</td>\n",
              "      <td>0.103448</td>\n",
              "      <td>1.344828</td>\n",
              "      <td>3.965517</td>\n",
              "      <td>2</td>\n",
              "    </tr>\n",
              "    <tr>\n",
              "      <th>5327</th>\n",
              "      <td>786</td>\n",
              "      <td>R Tewatia</td>\n",
              "      <td>1</td>\n",
              "      <td>Delhi Capitals</td>\n",
              "      <td>23.0</td>\n",
              "      <td>0.0</td>\n",
              "      <td>7.666667</td>\n",
              "      <td>3</td>\n",
              "      <td>0</td>\n",
              "      <td>Dubai International Cricket Stadium</td>\n",
              "      <td>1.0</td>\n",
              "      <td>0.0</td>\n",
              "      <td>0.0</td>\n",
              "      <td>0.0</td>\n",
              "      <td>0.0</td>\n",
              "      <td>8.0</td>\n",
              "      <td>30.000000</td>\n",
              "      <td>40.000000</td>\n",
              "      <td>13.666667</td>\n",
              "      <td>27.307692</td>\n",
              "      <td>20.576923</td>\n",
              "      <td>7.791667</td>\n",
              "      <td>0.038462</td>\n",
              "      <td>0.846154</td>\n",
              "      <td>2.807692</td>\n",
              "      <td>0</td>\n",
              "    </tr>\n",
              "    <tr>\n",
              "      <th>5328</th>\n",
              "      <td>786</td>\n",
              "      <td>K Rabada</td>\n",
              "      <td>2</td>\n",
              "      <td>Rajasthan Royals</td>\n",
              "      <td>28.0</td>\n",
              "      <td>0.0</td>\n",
              "      <td>7.000000</td>\n",
              "      <td>4</td>\n",
              "      <td>1</td>\n",
              "      <td>Dubai International Cricket Stadium</td>\n",
              "      <td>0.0</td>\n",
              "      <td>0.0</td>\n",
              "      <td>0.0</td>\n",
              "      <td>0.0</td>\n",
              "      <td>0.0</td>\n",
              "      <td>27.0</td>\n",
              "      <td>91.000000</td>\n",
              "      <td>72.333333</td>\n",
              "      <td>73.500000</td>\n",
              "      <td>60.000000</td>\n",
              "      <td>30.653846</td>\n",
              "      <td>7.836538</td>\n",
              "      <td>0.000000</td>\n",
              "      <td>2.076923</td>\n",
              "      <td>3.923077</td>\n",
              "      <td>3</td>\n",
              "    </tr>\n",
              "  </tbody>\n",
              "</table>\n",
              "<p>5329 rows × 26 columns</p>\n",
              "</div>"
            ],
            "text/plain": [
              "      match_id      bowler  inning  ... wicket_avg  over_avg  Points\n",
              "0            1     P Kumar       1  ...   0.000000  4.000000       0\n",
              "1            1    I Sharma       2  ...   1.000000  3.000000       2\n",
              "2            1  AB Agarkar       2  ...   3.000000  4.000000       3\n",
              "3            1    AB Dinda       2  ...   2.000000  3.000000       2\n",
              "4            1      Z Khan       1  ...   1.000000  4.000000       0\n",
              "...        ...         ...     ...  ...        ...       ...     ...\n",
              "5324       786    A Nortje       2  ...   1.250000  4.000000       0\n",
              "5325       786  JD Unadkat       1  ...   1.128205  3.500000       1\n",
              "5326       786   JC Archer       1  ...   1.344828  3.965517       2\n",
              "5327       786   R Tewatia       1  ...   0.846154  2.807692       0\n",
              "5328       786    K Rabada       2  ...   2.076923  3.923077       3\n",
              "\n",
              "[5329 rows x 26 columns]"
            ]
          },
          "metadata": {
            "tags": []
          },
          "execution_count": 2
        }
      ]
    },
    {
      "cell_type": "markdown",
      "metadata": {
        "id": "h80VpY2cT965"
      },
      "source": [
        "2. Converting categorical data to numerical data"
      ]
    },
    {
      "cell_type": "code",
      "metadata": {
        "colab": {
          "base_uri": "https://localhost:8080/",
          "height": 438
        },
        "id": "wFUnaJMk86S4",
        "outputId": "d47b54bc-292e-4f26-c097-0b2ceb554b47"
      },
      "source": [
        "df=df_new\n",
        "\n",
        "# Opposite team code \n",
        "df[\"batting_team\"]= df[\"batting_team\"].astype(\"category\")\n",
        "df[\"batting_team_code\"] = df[\"batting_team\"].cat.codes\n",
        "\n",
        "# Venue code\n",
        "df[\"venue\"]= df[\"venue\"].astype(\"category\")\n",
        "df[\"venue_code\"] = df[\"venue\"].cat.codes\n",
        "\n",
        "# Bowler name code\n",
        "df[\"bowler\"]= df[\"bowler\"].astype(\"category\")\n",
        "df[\"bowler_code\"] = df[\"bowler\"].cat.codes\n",
        "\n",
        "# Dictionary mapping of bowler name to their code\n",
        "bowler_zip = dict(zip(df['bowler_code'],df['bowler']))\n",
        "print(bowler_zip)\n",
        "df_ready = df.drop(columns=[\"venue\",\"batting_team\",\"bowler\"])\n",
        "df_ready"
      ],
      "execution_count": null,
      "outputs": [
        {
          "output_type": "stream",
          "text": [
            "{141: 'P Kumar', 71: 'I Sharma', 10: 'AB Agarkar', 11: 'AB Dinda', 221: 'Z Khan', 179: 'S Sreesanth', 215: 'WA Mota', 112: 'M Muralitharan', 139: 'P Amarnath', 125: 'MS Gony', 33: 'B Lee', 123: 'MM Patel', 186: 'SK Warne', 185: 'SK Trivedi', 50: 'D Salunkhe', 30: 'B Geeves', 62: 'GD McGrath', 109: 'M Kartik', 148: 'PP Ojha', 161: 'RP Singh', 217: 'WPUJC Vaas', 58: 'DS Kulkarni', 155: 'R Vinay Kumar', 4: 'A Nehra', 67: 'Harbhajan Singh', 29: 'B Akhil', 150: 'Pankaj Singh', 127: 'Mohammad Asif', 214: 'VS Yeligati', 116: 'MA Khote', 49: 'D Kalyankrishna', 212: 'VRV Singh', 197: 'Sohail Tanvir', 1: 'A Kumble', 55: 'DNT Zoysa', 59: 'DW Steyn', 47: 'CRD Fernando', 209: 'Umar Gul', 64: 'Gagandeep Singh', 147: 'PJ Sangwan', 113: 'M Ntini', 57: 'DP Vijaykumar', 104: 'L Balaji', 2: 'A Mishra', 196: 'Shoaib Akhtar', 22: 'Abdur Razzak', 163: 'RR Powar', 5: 'A Nel', 36: 'BAW Mendis', 200: 'T Henderson', 101: 'Kamran Khan', 203: 'T Thushara', 187: 'SL Malinga', 219: 'YA Abdulla', 56: 'DP Nannes', 16: 'AM Salvi', 213: 'VS Malik', 60: 'FH Edwards', 68: 'Harmeet Singh', 26: 'Anureet Singh', 162: 'RR Bose', 98: 'KP Appanna', 195: 'Shoaib Ahmed', 180: 'S Tyagi', 182: 'SB Jakati', 189: 'SM Harwood', 159: 'RJ Harris', 7: 'A Singh', 111: 'M Morkel', 3: 'A Mithun', 42: 'C Nanda', 126: 'Mashrafe Mortaza', 46: 'CK Langeveldt', 86: 'Jaskaran Singh', 156: 'RA Shaikh', 14: 'AG Murtaza', 193: 'SW Tait', 172: 'S Ladda', 183: 'SE Bond', 208: 'UT Yadav', 184: 'SJ Srivastava', 152: 'R Sharma', 77: 'J Theron', 91: 'KAJ Roach', 41: 'C Ganapathy', 119: 'MB Parmar', 52: 'DE Bollinger', 80: 'JD Unadkat', 18: 'AP Dole', 17: 'AN Ahmed', 103: 'L Ablish', 134: 'ND Doshi', 205: 'TG Southee', 177: 'S Randiv', 21: 'AUK Pathan', 12: 'AC Thomas', 216: 'WD Parnell', 135: 'NJ Rimmington', 175: 'S Nadeem', 35: 'BA Bhatt', 168: 'S Aravind', 76: 'J Syed Mohammad', 211: 'VR Aaron', 81: 'JE Taylor', 136: 'NL McCullum', 97: 'KMDN Kulasekara', 143: 'P Parameswaran', 70: 'I Malhotra', 31: 'B Kumar', 9: 'AA Kazi', 24: 'Anand Rajan', 176: 'S Rana', 164: 'RW Price', 115: 'M de Lange', 25: 'Ankit Sharma', 66: 'HV Patel', 51: 'DAJ Bracewell', 140: 'P Awana', 45: 'CJ McKay', 210: 'V Pratap Singh', 142: 'P Negi', 160: 'RJ Peterson', 153: 'R Shukla', 39: 'BW Hilfenhaus', 90: 'K Upadhyay', 198: 'Sunny Gupta', 82: 'JJ Bumrah', 120: 'MG Johnson', 169: 'S Badree', 32: 'B Laughlin', 20: 'AS Rajpoot', 128: 'Mohammed Shami', 170: 'S Kaul', 124: 'MM Sharma', 151: 'R Rampaul', 99: 'KV Sharma', 190: 'SMSM Senanayake', 72: 'IC Pandey', 220: 'YS Chahal', 100: 'KW Richardson', 145: 'P Suyal', 149: 'PV Tambe', 194: 'Sandeep Sharma', 137: 'NM Coulter-Nile', 117: 'MA Starc', 154: 'R Tewatia', 74: 'Imran Tahir', 38: 'BE Hendricks', 89: 'K Santokie', 146: 'PJ Cummins', 122: 'MJ McClenaghan', 53: 'DJ Muthuswami', 92: 'KC Cariappa', 181: 'SA Abbott', 204: 'TA Boult', 75: 'J Suchith', 158: 'RG More', 191: 'SN Thakur', 63: 'GS Sandhu', 78: 'J Yadav', 37: 'BB Sran', 108: 'M Ashwin', 131: 'Mustafizur Rahman', 13: 'AF Milne', 102: 'Kuldeep Yadav', 93: 'KJ Abbott', 202: 'T Shamsi', 171: 'S Kaushik', 188: 'SM Boland', 199: 'Swapnil Singh', 8: 'A Zampa', 44: 'CJ Jordan', 54: 'DL Chahar', 165: 'Rashid Khan', 206: 'TS Mills', 0: 'A Choudhary', 34: 'B Stanlake', 201: 'T Natarajan', 157: 'RD Chahar', 40: 'Basil Thampi', 207: 'Tejas Baroka', 107: 'LH Ferguson', 15: 'AJ Tye', 129: 'Mohammed Siraj', 88: 'K Rabada', 133: 'NB Singh', 121: 'MJ Henry', 28: 'Avesh Khan', 132: 'NA Saini', 114: 'M Prasidh Krishna', 166: 'Rasikh Salam', 130: 'Mujeeb Ur Rahman', 79: 'JC Archer', 61: 'GC Viljoen', 48: 'CV Varun', 110: 'M Markande', 173: 'S Lamichhane', 144: 'P Ray Barman', 84: 'JP Behrendorff', 19: 'AS Joseph', 65: 'HF Gurney', 174: 'S Midhun', 94: 'KK Ahmed', 23: 'Abhishek Sharma', 73: 'IS Sodhi', 27: 'Arshdeep Singh', 118: 'MA Wood', 87: 'K Khejroliya', 106: 'LE Plunkett', 105: 'L Ngidi', 96: 'KM Asif', 43: 'CJ Dala', 69: 'Harpreet Brar', 218: 'Y Prithvi Raj', 138: 'O Thomas', 178: 'S Sandeep Warrier', 83: 'JL Pattinson', 6: 'A Nortje', 167: 'Ravi Bishnoi', 192: 'SS Cottrell', 85: 'JR Hazlewood', 95: 'KL Nagarkoti'}\n"
          ],
          "name": "stdout"
        },
        {
          "output_type": "execute_result",
          "data": {
            "text/html": [
              "<div>\n",
              "<style scoped>\n",
              "    .dataframe tbody tr th:only-of-type {\n",
              "        vertical-align: middle;\n",
              "    }\n",
              "\n",
              "    .dataframe tbody tr th {\n",
              "        vertical-align: top;\n",
              "    }\n",
              "\n",
              "    .dataframe thead th {\n",
              "        text-align: right;\n",
              "    }\n",
              "</style>\n",
              "<table border=\"1\" class=\"dataframe\">\n",
              "  <thead>\n",
              "    <tr style=\"text-align: right;\">\n",
              "      <th></th>\n",
              "      <th>match_id</th>\n",
              "      <th>inning</th>\n",
              "      <th>total_bowler_runs</th>\n",
              "      <th>maiden</th>\n",
              "      <th>economy</th>\n",
              "      <th>overs</th>\n",
              "      <th>wickets</th>\n",
              "      <th>catch</th>\n",
              "      <th>Direct_runout</th>\n",
              "      <th>Indirect_runout</th>\n",
              "      <th>Stumping</th>\n",
              "      <th>lbw/bowled</th>\n",
              "      <th>fp_points</th>\n",
              "      <th>fp_avg</th>\n",
              "      <th>opp_avg</th>\n",
              "      <th>ven_avg</th>\n",
              "      <th>inn_avg</th>\n",
              "      <th>run_avg</th>\n",
              "      <th>eco_avg</th>\n",
              "      <th>maiden_avg</th>\n",
              "      <th>wicket_avg</th>\n",
              "      <th>over_avg</th>\n",
              "      <th>Points</th>\n",
              "      <th>batting_team_code</th>\n",
              "      <th>venue_code</th>\n",
              "      <th>bowler_code</th>\n",
              "    </tr>\n",
              "  </thead>\n",
              "  <tbody>\n",
              "    <tr>\n",
              "      <th>0</th>\n",
              "      <td>1</td>\n",
              "      <td>1</td>\n",
              "      <td>38.0</td>\n",
              "      <td>0.0</td>\n",
              "      <td>9.500000</td>\n",
              "      <td>4</td>\n",
              "      <td>0</td>\n",
              "      <td>1.0</td>\n",
              "      <td>0.0</td>\n",
              "      <td>0.0</td>\n",
              "      <td>0.0</td>\n",
              "      <td>0.0</td>\n",
              "      <td>8.0</td>\n",
              "      <td>0.000000</td>\n",
              "      <td>8.000000</td>\n",
              "      <td>8.000000</td>\n",
              "      <td>8.000000</td>\n",
              "      <td>38.000000</td>\n",
              "      <td>9.500000</td>\n",
              "      <td>0.000000</td>\n",
              "      <td>0.000000</td>\n",
              "      <td>4.000000</td>\n",
              "      <td>0</td>\n",
              "      <td>7</td>\n",
              "      <td>14</td>\n",
              "      <td>141</td>\n",
              "    </tr>\n",
              "    <tr>\n",
              "      <th>1</th>\n",
              "      <td>1</td>\n",
              "      <td>2</td>\n",
              "      <td>7.0</td>\n",
              "      <td>0.0</td>\n",
              "      <td>2.333333</td>\n",
              "      <td>3</td>\n",
              "      <td>1</td>\n",
              "      <td>0.0</td>\n",
              "      <td>0.0</td>\n",
              "      <td>0.0</td>\n",
              "      <td>0.0</td>\n",
              "      <td>1.0</td>\n",
              "      <td>39.0</td>\n",
              "      <td>0.000000</td>\n",
              "      <td>39.000000</td>\n",
              "      <td>39.000000</td>\n",
              "      <td>39.000000</td>\n",
              "      <td>7.000000</td>\n",
              "      <td>2.333333</td>\n",
              "      <td>0.000000</td>\n",
              "      <td>1.000000</td>\n",
              "      <td>3.000000</td>\n",
              "      <td>2</td>\n",
              "      <td>13</td>\n",
              "      <td>14</td>\n",
              "      <td>71</td>\n",
              "    </tr>\n",
              "    <tr>\n",
              "      <th>2</th>\n",
              "      <td>1</td>\n",
              "      <td>2</td>\n",
              "      <td>25.0</td>\n",
              "      <td>0.0</td>\n",
              "      <td>6.250000</td>\n",
              "      <td>4</td>\n",
              "      <td>3</td>\n",
              "      <td>0.0</td>\n",
              "      <td>0.0</td>\n",
              "      <td>1.0</td>\n",
              "      <td>0.0</td>\n",
              "      <td>0.0</td>\n",
              "      <td>87.0</td>\n",
              "      <td>0.000000</td>\n",
              "      <td>87.000000</td>\n",
              "      <td>87.000000</td>\n",
              "      <td>87.000000</td>\n",
              "      <td>25.000000</td>\n",
              "      <td>6.250000</td>\n",
              "      <td>0.000000</td>\n",
              "      <td>3.000000</td>\n",
              "      <td>4.000000</td>\n",
              "      <td>3</td>\n",
              "      <td>13</td>\n",
              "      <td>14</td>\n",
              "      <td>10</td>\n",
              "    </tr>\n",
              "    <tr>\n",
              "      <th>3</th>\n",
              "      <td>1</td>\n",
              "      <td>2</td>\n",
              "      <td>9.0</td>\n",
              "      <td>0.0</td>\n",
              "      <td>3.000000</td>\n",
              "      <td>3</td>\n",
              "      <td>2</td>\n",
              "      <td>0.0</td>\n",
              "      <td>0.0</td>\n",
              "      <td>0.0</td>\n",
              "      <td>0.0</td>\n",
              "      <td>1.0</td>\n",
              "      <td>64.0</td>\n",
              "      <td>0.000000</td>\n",
              "      <td>64.000000</td>\n",
              "      <td>64.000000</td>\n",
              "      <td>64.000000</td>\n",
              "      <td>9.000000</td>\n",
              "      <td>3.000000</td>\n",
              "      <td>0.000000</td>\n",
              "      <td>2.000000</td>\n",
              "      <td>3.000000</td>\n",
              "      <td>2</td>\n",
              "      <td>13</td>\n",
              "      <td>14</td>\n",
              "      <td>11</td>\n",
              "    </tr>\n",
              "    <tr>\n",
              "      <th>4</th>\n",
              "      <td>1</td>\n",
              "      <td>1</td>\n",
              "      <td>38.0</td>\n",
              "      <td>0.0</td>\n",
              "      <td>9.500000</td>\n",
              "      <td>4</td>\n",
              "      <td>1</td>\n",
              "      <td>0.0</td>\n",
              "      <td>0.0</td>\n",
              "      <td>0.0</td>\n",
              "      <td>0.0</td>\n",
              "      <td>0.0</td>\n",
              "      <td>25.0</td>\n",
              "      <td>0.000000</td>\n",
              "      <td>25.000000</td>\n",
              "      <td>25.000000</td>\n",
              "      <td>25.000000</td>\n",
              "      <td>38.000000</td>\n",
              "      <td>9.500000</td>\n",
              "      <td>0.000000</td>\n",
              "      <td>1.000000</td>\n",
              "      <td>4.000000</td>\n",
              "      <td>0</td>\n",
              "      <td>7</td>\n",
              "      <td>14</td>\n",
              "      <td>221</td>\n",
              "    </tr>\n",
              "    <tr>\n",
              "      <th>...</th>\n",
              "      <td>...</td>\n",
              "      <td>...</td>\n",
              "      <td>...</td>\n",
              "      <td>...</td>\n",
              "      <td>...</td>\n",
              "      <td>...</td>\n",
              "      <td>...</td>\n",
              "      <td>...</td>\n",
              "      <td>...</td>\n",
              "      <td>...</td>\n",
              "      <td>...</td>\n",
              "      <td>...</td>\n",
              "      <td>...</td>\n",
              "      <td>...</td>\n",
              "      <td>...</td>\n",
              "      <td>...</td>\n",
              "      <td>...</td>\n",
              "      <td>...</td>\n",
              "      <td>...</td>\n",
              "      <td>...</td>\n",
              "      <td>...</td>\n",
              "      <td>...</td>\n",
              "      <td>...</td>\n",
              "      <td>...</td>\n",
              "      <td>...</td>\n",
              "      <td>...</td>\n",
              "    </tr>\n",
              "    <tr>\n",
              "      <th>5324</th>\n",
              "      <td>786</td>\n",
              "      <td>2</td>\n",
              "      <td>33.0</td>\n",
              "      <td>0.0</td>\n",
              "      <td>8.250000</td>\n",
              "      <td>4</td>\n",
              "      <td>2</td>\n",
              "      <td>0.0</td>\n",
              "      <td>0.0</td>\n",
              "      <td>0.0</td>\n",
              "      <td>0.0</td>\n",
              "      <td>2.0</td>\n",
              "      <td>66.0</td>\n",
              "      <td>30.333333</td>\n",
              "      <td>46.500000</td>\n",
              "      <td>47.500000</td>\n",
              "      <td>44.857143</td>\n",
              "      <td>29.375000</td>\n",
              "      <td>7.343750</td>\n",
              "      <td>0.000000</td>\n",
              "      <td>1.250000</td>\n",
              "      <td>4.000000</td>\n",
              "      <td>0</td>\n",
              "      <td>10</td>\n",
              "      <td>6</td>\n",
              "      <td>6</td>\n",
              "    </tr>\n",
              "    <tr>\n",
              "      <th>5325</th>\n",
              "      <td>786</td>\n",
              "      <td>1</td>\n",
              "      <td>32.0</td>\n",
              "      <td>0.0</td>\n",
              "      <td>10.666667</td>\n",
              "      <td>3</td>\n",
              "      <td>2</td>\n",
              "      <td>0.0</td>\n",
              "      <td>0.0</td>\n",
              "      <td>0.0</td>\n",
              "      <td>0.0</td>\n",
              "      <td>0.0</td>\n",
              "      <td>48.0</td>\n",
              "      <td>30.333333</td>\n",
              "      <td>24.000000</td>\n",
              "      <td>33.200000</td>\n",
              "      <td>37.250000</td>\n",
              "      <td>30.435897</td>\n",
              "      <td>8.876068</td>\n",
              "      <td>0.038462</td>\n",
              "      <td>1.128205</td>\n",
              "      <td>3.500000</td>\n",
              "      <td>1</td>\n",
              "      <td>2</td>\n",
              "      <td>6</td>\n",
              "      <td>80</td>\n",
              "    </tr>\n",
              "    <tr>\n",
              "      <th>5326</th>\n",
              "      <td>786</td>\n",
              "      <td>1</td>\n",
              "      <td>19.0</td>\n",
              "      <td>0.0</td>\n",
              "      <td>4.750000</td>\n",
              "      <td>4</td>\n",
              "      <td>3</td>\n",
              "      <td>2.0</td>\n",
              "      <td>0.0</td>\n",
              "      <td>0.0</td>\n",
              "      <td>0.0</td>\n",
              "      <td>1.0</td>\n",
              "      <td>109.0</td>\n",
              "      <td>47.000000</td>\n",
              "      <td>63.333333</td>\n",
              "      <td>66.666667</td>\n",
              "      <td>55.789474</td>\n",
              "      <td>28.482759</td>\n",
              "      <td>7.160920</td>\n",
              "      <td>0.103448</td>\n",
              "      <td>1.344828</td>\n",
              "      <td>3.965517</td>\n",
              "      <td>2</td>\n",
              "      <td>2</td>\n",
              "      <td>6</td>\n",
              "      <td>79</td>\n",
              "    </tr>\n",
              "    <tr>\n",
              "      <th>5327</th>\n",
              "      <td>786</td>\n",
              "      <td>1</td>\n",
              "      <td>23.0</td>\n",
              "      <td>0.0</td>\n",
              "      <td>7.666667</td>\n",
              "      <td>3</td>\n",
              "      <td>0</td>\n",
              "      <td>1.0</td>\n",
              "      <td>0.0</td>\n",
              "      <td>0.0</td>\n",
              "      <td>0.0</td>\n",
              "      <td>0.0</td>\n",
              "      <td>8.0</td>\n",
              "      <td>30.000000</td>\n",
              "      <td>40.000000</td>\n",
              "      <td>13.666667</td>\n",
              "      <td>27.307692</td>\n",
              "      <td>20.576923</td>\n",
              "      <td>7.791667</td>\n",
              "      <td>0.038462</td>\n",
              "      <td>0.846154</td>\n",
              "      <td>2.807692</td>\n",
              "      <td>0</td>\n",
              "      <td>2</td>\n",
              "      <td>6</td>\n",
              "      <td>154</td>\n",
              "    </tr>\n",
              "    <tr>\n",
              "      <th>5328</th>\n",
              "      <td>786</td>\n",
              "      <td>2</td>\n",
              "      <td>28.0</td>\n",
              "      <td>0.0</td>\n",
              "      <td>7.000000</td>\n",
              "      <td>4</td>\n",
              "      <td>1</td>\n",
              "      <td>0.0</td>\n",
              "      <td>0.0</td>\n",
              "      <td>0.0</td>\n",
              "      <td>0.0</td>\n",
              "      <td>0.0</td>\n",
              "      <td>27.0</td>\n",
              "      <td>91.000000</td>\n",
              "      <td>72.333333</td>\n",
              "      <td>73.500000</td>\n",
              "      <td>60.000000</td>\n",
              "      <td>30.653846</td>\n",
              "      <td>7.836538</td>\n",
              "      <td>0.000000</td>\n",
              "      <td>2.076923</td>\n",
              "      <td>3.923077</td>\n",
              "      <td>3</td>\n",
              "      <td>10</td>\n",
              "      <td>6</td>\n",
              "      <td>88</td>\n",
              "    </tr>\n",
              "  </tbody>\n",
              "</table>\n",
              "<p>5329 rows × 26 columns</p>\n",
              "</div>"
            ],
            "text/plain": [
              "      match_id  inning  ...  venue_code  bowler_code\n",
              "0            1       1  ...          14          141\n",
              "1            1       2  ...          14           71\n",
              "2            1       2  ...          14           10\n",
              "3            1       2  ...          14           11\n",
              "4            1       1  ...          14          221\n",
              "...        ...     ...  ...         ...          ...\n",
              "5324       786       2  ...           6            6\n",
              "5325       786       1  ...           6           80\n",
              "5326       786       1  ...           6           79\n",
              "5327       786       1  ...           6          154\n",
              "5328       786       2  ...           6           88\n",
              "\n",
              "[5329 rows x 26 columns]"
            ]
          },
          "metadata": {
            "tags": []
          },
          "execution_count": 3
        }
      ]
    },
    {
      "cell_type": "markdown",
      "metadata": {
        "id": "hIdRFDDzU1gw"
      },
      "source": [
        "3. Selecting most relevant features for bowler"
      ]
    },
    {
      "cell_type": "code",
      "metadata": {
        "id": "k0R6rQMYTV0v",
        "colab": {
          "base_uri": "https://localhost:8080/",
          "height": 402
        },
        "outputId": "dfb204ab-76d4-42d3-a439-943a0515a075"
      },
      "source": [
        "bowl_df = df_ready[['wicket_avg','maiden_avg','eco_avg','inn_avg','ven_avg','opp_avg','fp_avg','over_avg','bowler_code','batting_team_code','venue_code','inning']]\n",
        "bowl_df\n"
      ],
      "execution_count": null,
      "outputs": [
        {
          "output_type": "execute_result",
          "data": {
            "text/html": [
              "<div>\n",
              "<style scoped>\n",
              "    .dataframe tbody tr th:only-of-type {\n",
              "        vertical-align: middle;\n",
              "    }\n",
              "\n",
              "    .dataframe tbody tr th {\n",
              "        vertical-align: top;\n",
              "    }\n",
              "\n",
              "    .dataframe thead th {\n",
              "        text-align: right;\n",
              "    }\n",
              "</style>\n",
              "<table border=\"1\" class=\"dataframe\">\n",
              "  <thead>\n",
              "    <tr style=\"text-align: right;\">\n",
              "      <th></th>\n",
              "      <th>wicket_avg</th>\n",
              "      <th>maiden_avg</th>\n",
              "      <th>eco_avg</th>\n",
              "      <th>inn_avg</th>\n",
              "      <th>ven_avg</th>\n",
              "      <th>opp_avg</th>\n",
              "      <th>fp_avg</th>\n",
              "      <th>over_avg</th>\n",
              "      <th>bowler_code</th>\n",
              "      <th>batting_team_code</th>\n",
              "      <th>venue_code</th>\n",
              "      <th>inning</th>\n",
              "    </tr>\n",
              "  </thead>\n",
              "  <tbody>\n",
              "    <tr>\n",
              "      <th>0</th>\n",
              "      <td>0.000000</td>\n",
              "      <td>0.000000</td>\n",
              "      <td>9.500000</td>\n",
              "      <td>8.000000</td>\n",
              "      <td>8.000000</td>\n",
              "      <td>8.000000</td>\n",
              "      <td>0.000000</td>\n",
              "      <td>4.000000</td>\n",
              "      <td>141</td>\n",
              "      <td>7</td>\n",
              "      <td>14</td>\n",
              "      <td>1</td>\n",
              "    </tr>\n",
              "    <tr>\n",
              "      <th>1</th>\n",
              "      <td>1.000000</td>\n",
              "      <td>0.000000</td>\n",
              "      <td>2.333333</td>\n",
              "      <td>39.000000</td>\n",
              "      <td>39.000000</td>\n",
              "      <td>39.000000</td>\n",
              "      <td>0.000000</td>\n",
              "      <td>3.000000</td>\n",
              "      <td>71</td>\n",
              "      <td>13</td>\n",
              "      <td>14</td>\n",
              "      <td>2</td>\n",
              "    </tr>\n",
              "    <tr>\n",
              "      <th>2</th>\n",
              "      <td>3.000000</td>\n",
              "      <td>0.000000</td>\n",
              "      <td>6.250000</td>\n",
              "      <td>87.000000</td>\n",
              "      <td>87.000000</td>\n",
              "      <td>87.000000</td>\n",
              "      <td>0.000000</td>\n",
              "      <td>4.000000</td>\n",
              "      <td>10</td>\n",
              "      <td>13</td>\n",
              "      <td>14</td>\n",
              "      <td>2</td>\n",
              "    </tr>\n",
              "    <tr>\n",
              "      <th>3</th>\n",
              "      <td>2.000000</td>\n",
              "      <td>0.000000</td>\n",
              "      <td>3.000000</td>\n",
              "      <td>64.000000</td>\n",
              "      <td>64.000000</td>\n",
              "      <td>64.000000</td>\n",
              "      <td>0.000000</td>\n",
              "      <td>3.000000</td>\n",
              "      <td>11</td>\n",
              "      <td>13</td>\n",
              "      <td>14</td>\n",
              "      <td>2</td>\n",
              "    </tr>\n",
              "    <tr>\n",
              "      <th>4</th>\n",
              "      <td>1.000000</td>\n",
              "      <td>0.000000</td>\n",
              "      <td>9.500000</td>\n",
              "      <td>25.000000</td>\n",
              "      <td>25.000000</td>\n",
              "      <td>25.000000</td>\n",
              "      <td>0.000000</td>\n",
              "      <td>4.000000</td>\n",
              "      <td>221</td>\n",
              "      <td>7</td>\n",
              "      <td>14</td>\n",
              "      <td>1</td>\n",
              "    </tr>\n",
              "    <tr>\n",
              "      <th>...</th>\n",
              "      <td>...</td>\n",
              "      <td>...</td>\n",
              "      <td>...</td>\n",
              "      <td>...</td>\n",
              "      <td>...</td>\n",
              "      <td>...</td>\n",
              "      <td>...</td>\n",
              "      <td>...</td>\n",
              "      <td>...</td>\n",
              "      <td>...</td>\n",
              "      <td>...</td>\n",
              "      <td>...</td>\n",
              "    </tr>\n",
              "    <tr>\n",
              "      <th>5324</th>\n",
              "      <td>1.250000</td>\n",
              "      <td>0.000000</td>\n",
              "      <td>7.343750</td>\n",
              "      <td>44.857143</td>\n",
              "      <td>47.500000</td>\n",
              "      <td>46.500000</td>\n",
              "      <td>30.333333</td>\n",
              "      <td>4.000000</td>\n",
              "      <td>6</td>\n",
              "      <td>10</td>\n",
              "      <td>6</td>\n",
              "      <td>2</td>\n",
              "    </tr>\n",
              "    <tr>\n",
              "      <th>5325</th>\n",
              "      <td>1.128205</td>\n",
              "      <td>0.038462</td>\n",
              "      <td>8.876068</td>\n",
              "      <td>37.250000</td>\n",
              "      <td>33.200000</td>\n",
              "      <td>24.000000</td>\n",
              "      <td>30.333333</td>\n",
              "      <td>3.500000</td>\n",
              "      <td>80</td>\n",
              "      <td>2</td>\n",
              "      <td>6</td>\n",
              "      <td>1</td>\n",
              "    </tr>\n",
              "    <tr>\n",
              "      <th>5326</th>\n",
              "      <td>1.344828</td>\n",
              "      <td>0.103448</td>\n",
              "      <td>7.160920</td>\n",
              "      <td>55.789474</td>\n",
              "      <td>66.666667</td>\n",
              "      <td>63.333333</td>\n",
              "      <td>47.000000</td>\n",
              "      <td>3.965517</td>\n",
              "      <td>79</td>\n",
              "      <td>2</td>\n",
              "      <td>6</td>\n",
              "      <td>1</td>\n",
              "    </tr>\n",
              "    <tr>\n",
              "      <th>5327</th>\n",
              "      <td>0.846154</td>\n",
              "      <td>0.038462</td>\n",
              "      <td>7.791667</td>\n",
              "      <td>27.307692</td>\n",
              "      <td>13.666667</td>\n",
              "      <td>40.000000</td>\n",
              "      <td>30.000000</td>\n",
              "      <td>2.807692</td>\n",
              "      <td>154</td>\n",
              "      <td>2</td>\n",
              "      <td>6</td>\n",
              "      <td>1</td>\n",
              "    </tr>\n",
              "    <tr>\n",
              "      <th>5328</th>\n",
              "      <td>2.076923</td>\n",
              "      <td>0.000000</td>\n",
              "      <td>7.836538</td>\n",
              "      <td>60.000000</td>\n",
              "      <td>73.500000</td>\n",
              "      <td>72.333333</td>\n",
              "      <td>91.000000</td>\n",
              "      <td>3.923077</td>\n",
              "      <td>88</td>\n",
              "      <td>10</td>\n",
              "      <td>6</td>\n",
              "      <td>2</td>\n",
              "    </tr>\n",
              "  </tbody>\n",
              "</table>\n",
              "<p>5329 rows × 12 columns</p>\n",
              "</div>"
            ],
            "text/plain": [
              "      wicket_avg  maiden_avg   eco_avg  ...  batting_team_code  venue_code  inning\n",
              "0       0.000000    0.000000  9.500000  ...                  7          14       1\n",
              "1       1.000000    0.000000  2.333333  ...                 13          14       2\n",
              "2       3.000000    0.000000  6.250000  ...                 13          14       2\n",
              "3       2.000000    0.000000  3.000000  ...                 13          14       2\n",
              "4       1.000000    0.000000  9.500000  ...                  7          14       1\n",
              "...          ...         ...       ...  ...                ...         ...     ...\n",
              "5324    1.250000    0.000000  7.343750  ...                 10           6       2\n",
              "5325    1.128205    0.038462  8.876068  ...                  2           6       1\n",
              "5326    1.344828    0.103448  7.160920  ...                  2           6       1\n",
              "5327    0.846154    0.038462  7.791667  ...                  2           6       1\n",
              "5328    2.076923    0.000000  7.836538  ...                 10           6       2\n",
              "\n",
              "[5329 rows x 12 columns]"
            ]
          },
          "metadata": {
            "tags": []
          },
          "execution_count": 4
        }
      ]
    },
    {
      "cell_type": "markdown",
      "metadata": {
        "id": "jvMe2khlVCul"
      },
      "source": [
        "4. Labels separation"
      ]
    },
    {
      "cell_type": "code",
      "metadata": {
        "colab": {
          "base_uri": "https://localhost:8080/"
        },
        "id": "4Nzpqiu8QQBF",
        "outputId": "90e1a35e-3006-4c54-883d-882fd5668576"
      },
      "source": [
        "y = df_ready['Points'].values\n",
        "y"
      ],
      "execution_count": null,
      "outputs": [
        {
          "output_type": "execute_result",
          "data": {
            "text/plain": [
              "array([0, 2, 3, ..., 2, 0, 3])"
            ]
          },
          "metadata": {
            "tags": []
          },
          "execution_count": 5
        }
      ]
    },
    {
      "cell_type": "markdown",
      "metadata": {
        "id": "oet6VXc3VGQI"
      },
      "source": [
        "5. Normalization of features"
      ]
    },
    {
      "cell_type": "code",
      "metadata": {
        "colab": {
          "base_uri": "https://localhost:8080/"
        },
        "id": "gcGz1vMQQcdi",
        "outputId": "47e31bb3-b685-4bd4-ccdf-21ea54382bf8"
      },
      "source": [
        "# Fitting data for normalization using sklearn library\n",
        "X = preprocessing.StandardScaler().fit(bowl_df).transform(bowl_df.astype(float))\n",
        "X"
      ],
      "execution_count": null,
      "outputs": [
        {
          "output_type": "execute_result",
          "data": {
            "text/plain": [
              "array([[-2.70680789, -0.5747821 ,  1.42986532, ...,  0.0200465 ,\n",
              "        -0.43502576, -1.00658955],\n",
              "       [-0.32152423, -0.5747821 , -4.77604047, ...,  1.38963335,\n",
              "        -0.43502576,  0.99345359],\n",
              "       [ 4.4490431 , -0.5747821 , -1.38444079, ...,  1.38963335,\n",
              "        -0.43502576,  0.99345359],\n",
              "       ...,\n",
              "       [ 0.50098738,  0.79903013, -0.59563882, ..., -1.12127588,\n",
              "        -1.23332199, -1.00658955],\n",
              "       [-0.68849094, -0.06400576, -0.04944943, ..., -1.12127588,\n",
              "        -1.23332199, -1.00658955],\n",
              "       [ 2.24724279, -0.5747821 , -0.01059314, ...,  0.70483992,\n",
              "        -1.23332199,  0.99345359]])"
            ]
          },
          "metadata": {
            "tags": []
          },
          "execution_count": 6
        }
      ]
    },
    {
      "cell_type": "markdown",
      "metadata": {
        "id": "ntijtIHwYKiO"
      },
      "source": [
        "6. Split data into train and test set"
      ]
    },
    {
      "cell_type": "code",
      "metadata": {
        "colab": {
          "base_uri": "https://localhost:8080/"
        },
        "id": "7O_08B-jQfuw",
        "outputId": "ec411cac-1dca-4993-9d33-e2ad649ee923"
      },
      "source": [
        "from sklearn.model_selection import train_test_split\n",
        "\n",
        "# 80% train data and 20% test data\n",
        "X_train, X_test, y_train, y_test = train_test_split( X, y, test_size=0.2, random_state=4)\n",
        "print ('Train set:', X_train.shape,  y_train.shape)\n",
        "print ('Test set:', X_test.shape,  y_test.shape)"
      ],
      "execution_count": null,
      "outputs": [
        {
          "output_type": "stream",
          "text": [
            "Train set: (4263, 12) (4263,)\n",
            "Test set: (1066, 12) (1066,)\n"
          ],
          "name": "stdout"
        }
      ]
    },
    {
      "cell_type": "markdown",
      "metadata": {
        "id": "PTGRgbTcYVww"
      },
      "source": [
        "7. Building a random forest classifier model"
      ]
    },
    {
      "cell_type": "code",
      "metadata": {
        "id": "uqTKMRrASlER"
      },
      "source": [
        "from sklearn.model_selection import cross_val_score\n",
        "from sklearn.model_selection import RepeatedStratifiedKFold\n",
        "from sklearn.ensemble import RandomForestClassifier\n",
        "from matplotlib import pyplot"
      ],
      "execution_count": null,
      "outputs": []
    },
    {
      "cell_type": "code",
      "metadata": {
        "colab": {
          "base_uri": "https://localhost:8080/"
        },
        "id": "wbhX74nyWvBy",
        "outputId": "235899ae-dc80-4ef2-ecaf-c8fb730782e2"
      },
      "source": [
        "rf = RandomForestClassifier(n_estimators=10)\n",
        "rf.fit(X_train,y_train)\n"
      ],
      "execution_count": null,
      "outputs": [
        {
          "output_type": "execute_result",
          "data": {
            "text/plain": [
              "RandomForestClassifier(bootstrap=True, ccp_alpha=0.0, class_weight=None,\n",
              "                       criterion='gini', max_depth=None, max_features='auto',\n",
              "                       max_leaf_nodes=None, max_samples=None,\n",
              "                       min_impurity_decrease=0.0, min_impurity_split=None,\n",
              "                       min_samples_leaf=1, min_samples_split=2,\n",
              "                       min_weight_fraction_leaf=0.0, n_estimators=10,\n",
              "                       n_jobs=None, oob_score=False, random_state=None,\n",
              "                       verbose=0, warm_start=False)"
            ]
          },
          "metadata": {
            "tags": []
          },
          "execution_count": 9
        }
      ]
    },
    {
      "cell_type": "markdown",
      "metadata": {
        "id": "XM8N8CpkYf1u"
      },
      "source": [
        "8. Predicting points of test set"
      ]
    },
    {
      "cell_type": "code",
      "metadata": {
        "id": "tjOmY_GsYs2t"
      },
      "source": [
        "yhat = rf.predict(X_test)"
      ],
      "execution_count": null,
      "outputs": []
    },
    {
      "cell_type": "markdown",
      "metadata": {
        "id": "l5tV1My8ZFgX"
      },
      "source": [
        "9. Accuracy calculation of prediction"
      ]
    },
    {
      "cell_type": "code",
      "metadata": {
        "colab": {
          "base_uri": "https://localhost:8080/"
        },
        "id": "8IZZHPPiYnJO",
        "outputId": "def1d41d-35f9-4288-ac67-5eb5cadc325d"
      },
      "source": [
        "from sklearn import metrics\n",
        "print(\"Train set Accuracy: \", metrics.accuracy_score(y_train, rf.predict(X_train)))\n",
        "print(\"Test set Accuracy: \", metrics.accuracy_score(y_test, yhat))"
      ],
      "execution_count": null,
      "outputs": [
        {
          "output_type": "stream",
          "text": [
            "Train set Accuracy:  0.9849870982875909\n",
            "Test set Accuracy:  0.41369606003752346\n"
          ],
          "name": "stdout"
        }
      ]
    },
    {
      "cell_type": "markdown",
      "metadata": {
        "id": "iVPPa85DZKr7"
      },
      "source": [
        "10. Classification report "
      ]
    },
    {
      "cell_type": "code",
      "metadata": {
        "colab": {
          "base_uri": "https://localhost:8080/"
        },
        "id": "VyEIUY-5Io53",
        "outputId": "4bf96656-0dbb-43d6-f993-39263239a9ae"
      },
      "source": [
        "t0 = time()\n",
        "y_pred = rf.predict(X_test)\n",
        "print(\"done in %0.3fs\" % (time() - t0))\n",
        "print(classification_report(y_test, y_pred))"
      ],
      "execution_count": null,
      "outputs": [
        {
          "output_type": "stream",
          "text": [
            "done in 0.008s\n",
            "              precision    recall  f1-score   support\n",
            "\n",
            "           0       0.38      0.54      0.45       298\n",
            "           1       0.45      0.29      0.36       197\n",
            "           2       0.44      0.37      0.40       205\n",
            "           3       0.42      0.44      0.43       322\n",
            "           4       0.43      0.14      0.21        44\n",
            "\n",
            "    accuracy                           0.41      1066\n",
            "   macro avg       0.42      0.35      0.37      1066\n",
            "weighted avg       0.42      0.41      0.41      1066\n",
            "\n"
          ],
          "name": "stdout"
        }
      ]
    },
    {
      "cell_type": "markdown",
      "metadata": {
        "id": "C-sT1S0mZOQW"
      },
      "source": [
        "11. Plot of confusion matrix"
      ]
    },
    {
      "cell_type": "markdown",
      "metadata": {
        "id": "QLxf9Wmja2rL"
      },
      "source": [
        "Function to plot confusion matrix"
      ]
    },
    {
      "cell_type": "code",
      "metadata": {
        "id": "GHpjH9swIEtC"
      },
      "source": [
        "def plot_confusion_matrix(cm, classes,\n",
        "                          normalize=False,\n",
        "                          title='Confusion matrix',\n",
        "                          cmap=plt.cm.Blues):\n",
        "    # Plot of matrix\n",
        "    plt.imshow(cm, interpolation='nearest', cmap=cmap)\n",
        "    plt.title(title)\n",
        "    plt.colorbar()\n",
        "    tick_marks = np.arange(len(classes))\n",
        "    \n",
        "    # setting Ticks \n",
        "    plt.xticks(tick_marks, classes, rotation=45)\n",
        "    plt.yticks(tick_marks, classes)\n",
        "\n",
        "    fmt = '.2f' if normalize else 'd'\n",
        "    thresh = cm.max() / 2.\n",
        "\n",
        "    # iterating over matrix and adding to plot\n",
        "    for i, j in itertools.product(range(cm.shape[0]), range(cm.shape[1])):\n",
        "        plt.text(j, i, format(cm[i, j], fmt),\n",
        "                 horizontalalignment=\"center\",\n",
        "                 color=\"white\" if cm[i, j] > thresh else \"black\")\n",
        "\n",
        "    plt.tight_layout()\n",
        "\n",
        "    # Adding x and y labels\n",
        "    plt.ylabel('True label')\n",
        "    plt.xlabel('Predicted label')"
      ],
      "execution_count": null,
      "outputs": []
    },
    {
      "cell_type": "code",
      "metadata": {
        "colab": {
          "resources": {
            "http://localhost:8080/nbextensions/google.colab/files.js": {
              "data": "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",
              "ok": true,
              "headers": [
                [
                  "content-type",
                  "application/javascript"
                ]
              ],
              "status": 200,
              "status_text": ""
            }
          },
          "base_uri": "https://localhost:8080/",
          "height": 366
        },
        "id": "Glie7g7MP1HD",
        "outputId": "39bd595e-74b2-4524-bf4a-27b14fc47fb1"
      },
      "source": [
        "import json\n",
        "cnf_matrix = confusion_matrix(y_test, yhat, labels=[0,1,2,3,4])\n",
        "plt.figure()\n",
        "\n",
        "from google.colab import files\n",
        "bowl_dict = files.upload()\n",
        "\n",
        "fp = open(\"bowl_dict.txt\",'r')\n",
        "bowl_dict = fp.read()\n",
        "\n",
        "js = json.loads(bowl_dict)\n",
        "bowl_dict = js\n",
        "plot_confusion_matrix(cnf_matrix, classes=[bowl_dict[\"0\"],bowl_dict[\"1\"],bowl_dict[\"2\"],bowl_dict[\"3\"],bowl_dict[\"4\"]],normalize= False,  title='Confusion matrix')"
      ],
      "execution_count": null,
      "outputs": [
        {
          "output_type": "display_data",
          "data": {
            "text/html": [
              "\n",
              "     <input type=\"file\" id=\"files-5aef9cfb-b246-4f58-9bde-70c48ee8cc5c\" name=\"files[]\" multiple disabled\n",
              "        style=\"border:none\" />\n",
              "     <output id=\"result-5aef9cfb-b246-4f58-9bde-70c48ee8cc5c\">\n",
              "      Upload widget is only available when the cell has been executed in the\n",
              "      current browser session. Please rerun this cell to enable.\n",
              "      </output>\n",
              "      <script src=\"/nbextensions/google.colab/files.js\"></script> "
            ],
            "text/plain": [
              "<IPython.core.display.HTML object>"
            ]
          },
          "metadata": {
            "tags": []
          }
        },
        {
          "output_type": "stream",
          "text": [
            "Saving bowl_dict.txt to bowl_dict.txt\n"
          ],
          "name": "stdout"
        },
        {
          "output_type": "display_data",
          "data": {
            "image/png": "[encoded data removed]",
            "text/plain": [
              "<Figure size 432x288 with 2 Axes>"
            ]
          },
          "metadata": {
            "tags": [],
            "needs_background": "light"
          }
        }
      ]
    },
    {
      "cell_type": "markdown",
      "metadata": {
        "id": "6-SsHiqjZSLe"
      },
      "source": [
        "# Feature Selection step"
      ]
    },
    {
      "cell_type": "code",
      "metadata": {
        "id": "kMdBgn1lNqJt",
        "colab": {
          "base_uri": "https://localhost:8080/",
          "height": 466
        },
        "outputId": "89532af7-9a23-4320-fce2-6e7f7ecbb485"
      },
      "source": [
        "# Random forest importance feature\n",
        "importance = rf.feature_importances_\n",
        "fn_df = pd.DataFrame({'Features':pd.DataFrame(X).columns})\n",
        "\n",
        "# List of features\n",
        "lst=['wicket_avg','maiden_avg','eco_avg','innings_avg','venue_avg','opp_avg','fp_avg','overs_avg','bowler_code','batting_team_code','venue_code','inning']\n",
        "\n",
        "# Printing importances of each feature\n",
        "for i,v in enumerate(importance):\n",
        "\tprint('Feature: %0d, Score: %.5f' % (i,v))\n",
        "\n",
        "# Plotting importances\n",
        "pyplot.bar([x for x in range(len(importance))], importance)\n",
        "pyplot.show()"
      ],
      "execution_count": null,
      "outputs": [
        {
          "output_type": "stream",
          "text": [
            "Feature: 0, Score: 0.08333\n",
            "Feature: 1, Score: 0.05666\n",
            "Feature: 2, Score: 0.12437\n",
            "Feature: 3, Score: 0.09964\n",
            "Feature: 4, Score: 0.13578\n",
            "Feature: 5, Score: 0.11444\n",
            "Feature: 6, Score: 0.08462\n",
            "Feature: 7, Score: 0.08892\n",
            "Feature: 8, Score: 0.06815\n",
            "Feature: 9, Score: 0.05972\n",
            "Feature: 10, Score: 0.06762\n",
            "Feature: 11, Score: 0.01676\n"
          ],
          "name": "stdout"
        },
        {
          "output_type": "display_data",
          "data": {
            "image/png": "[encoded data removed]",
            "text/plain": [
              "<Figure size 432x288 with 1 Axes>"
            ]
          },
          "metadata": {
            "tags": [],
            "needs_background": "light"
          }
        }
      ]
    },
    {
      "cell_type": "code",
      "metadata": {
        "colab": {
          "base_uri": "https://localhost:8080/",
          "height": 481
        },
        "id": "8VO0dJKnU16f",
        "outputId": "5abd30a5-a4d6-4087-ddf3-1bbcf0c39ad3"
      },
      "source": [
        "import seaborn as sns\n",
        "import matplotlib.pyplot as plt\n",
        "%matplotlib inline\n",
        "\n",
        "# List of features\n",
        "df_cor =df_ready[['wicket_avg','maiden_avg','eco_avg','inn_avg','ven_avg','opp_avg','fp_avg','over_avg','bowler_code','batting_team_code','venue_code','inning','Points']]\n",
        "\n",
        "# Finding correlation of each feature and label\n",
        "corr = df_cor.corr()\n",
        "\n",
        "# Heatmap plot of Correlation\n",
        "plt.figure(figsize = (10,6))\n",
        "sns.heatmap(corr,annot=True)"
      ],
      "execution_count": null,
      "outputs": [
        {
          "output_type": "execute_result",
          "data": {
            "text/plain": [
              "<matplotlib.axes._subplots.AxesSubplot at 0x7efcc7e9b790>"
            ]
          },
          "metadata": {
            "tags": []
          },
          "execution_count": 33
        },
        {
          "output_type": "display_data",
          "data": {
            "image/png": "[encoded data removed]",
            "text/plain": [
              "<Figure size 720x432 with 2 Axes>"
            ]
          },
          "metadata": {
            "tags": [],
            "needs_background": "light"
          }
        }
      ]
    },
    {
      "cell_type": "code",
      "metadata": {
        "colab": {
          "base_uri": "https://localhost:8080/"
        },
        "id": "9J2PQ2wjac0v",
        "outputId": "c14306b5-cab6-4925-dfab-fde2ad36bd6b"
      },
      "source": [
        "# Importing python libraries for chi-square importances\n",
        "from sklearn.feature_selection import SelectKBest\n",
        "from sklearn.feature_selection import chi2\n",
        "\n",
        "# Categorical valued features\n",
        "bowl_df = df_ready[['bowler_code','batting_team_code','venue_code','inning']].values\n",
        "\n",
        "# Conversion to int\n",
        "X_cat = bowl_df.astype(int)\n",
        "\n",
        "# Chi-square model\n",
        "chi2_fet = SelectKBest(chi2,k=2)\n",
        "\n",
        "# Selecating best categorical features\n",
        "X_best = chi2_fet.fit_transform(X_cat,y)\n",
        "\n",
        "# Printing both features\n",
        "print(\"All features\")\n",
        "print(X_cat)\n",
        "print(\"Selected features\")\n",
        "print(X_best)"
      ],
      "execution_count": null,
      "outputs": [
        {
          "output_type": "stream",
          "text": [
            "All features\n",
            "[[141   7  14   1]\n",
            " [ 71  13  14   2]\n",
            " [ 10  13  14   2]\n",
            " ...\n",
            " [ 79   2   6   1]\n",
            " [154   2   6   1]\n",
            " [ 88  10   6   2]]\n",
            "Selected features\n",
            "[[141   7]\n",
            " [ 71  13]\n",
            " [ 10  13]\n",
            " ...\n",
            " [ 79   2]\n",
            " [154   2]\n",
            " [ 88  10]]\n"
          ],
          "name": "stdout"
        }
      ]
    },
    {
      "cell_type": "markdown",
      "metadata": {
        "id": "GXOfi11hbrEG"
      },
      "source": [
        "# HyperParamater Tuning"
      ]
    },
    {
      "cell_type": "code",
      "metadata": {
        "colab": {
          "base_uri": "https://localhost:8080/"
        },
        "id": "PBnf-MMDZnod",
        "outputId": "e10dcf35-08c1-4860-f1cf-e7df169c9d3d"
      },
      "source": [
        "# Import randomized search CV\n",
        "from sklearn.model_selection import RandomizedSearchCV\n",
        "\n",
        "# Number of trees in random forest\n",
        "n_estimators = [int(x) for x in np.linspace(start = 200, stop = 2000, num = 10)]\n",
        "\n",
        "# Number of features to consider at every split\n",
        "max_features = ['auto', 'sqrt']\n",
        "\n",
        "# Maximum number of levels in tree\n",
        "max_depth = [int(x) for x in np.linspace(10, 110, num = 11)]\n",
        "max_depth.append(None)\n",
        "\n",
        "# Minimum number of samples required to split a node\n",
        "min_samples_split = [2, 5, 10]\n",
        "\n",
        "# Minimum number of samples required at each leaf node\n",
        "min_samples_leaf = [1, 2, 4]\n",
        "\n",
        "# Method of selecting samples for training each tree\n",
        "bootstrap = [True, False]\n",
        "\n",
        "# Create the random grid\n",
        "random_grid = {'n_estimators': n_estimators,\n",
        "               'max_features': max_features,\n",
        "               'max_depth': max_depth,\n",
        "               'min_samples_split': min_samples_split,\n",
        "               'min_samples_leaf': min_samples_leaf,\n",
        "               'bootstrap': bootstrap}\n",
        "pprint(random_grid)"
      ],
      "execution_count": null,
      "outputs": [
        {
          "output_type": "stream",
          "text": [
            "{'bootstrap': [True, False],\n",
            " 'max_depth': [10, 20, 30, 40, 50, 60, 70, 80, 90, 100, 110, None],\n",
            " 'max_features': ['auto', 'sqrt'],\n",
            " 'min_samples_leaf': [1, 2, 4],\n",
            " 'min_samples_split': [2, 5, 10],\n",
            " 'n_estimators': [200, 400, 600, 800, 1000, 1200, 1400, 1600, 1800, 2000]}\n"
          ],
          "name": "stdout"
        }
      ]
    },
    {
      "cell_type": "code",
      "metadata": {
        "colab": {
          "base_uri": "https://localhost:8080/"
        },
        "id": "TSCHTRxeZpJx",
        "outputId": "37cb02e2-db19-471d-908f-e4f072b1ae94"
      },
      "source": [
        "import pprint\n",
        "\n",
        "# RandomizedSearch with given grid parameters\n",
        "rf_random = RandomizedSearchCV(estimator = rf, param_distributions = random_grid, n_iter = 100, cv = 3, verbose=2, random_state=42, n_jobs = -1)\n",
        "\n",
        "# Fit the random search model\n",
        "rf_random.fit(X_train,y_train)"
      ],
      "execution_count": null,
      "outputs": [
        {
          "output_type": "stream",
          "text": [
            "Fitting 3 folds for each of 100 candidates, totalling 300 fits\n"
          ],
          "name": "stdout"
        },
        {
          "output_type": "stream",
          "text": [
            "[Parallel(n_jobs=-1)]: Using backend LokyBackend with 2 concurrent workers.\n",
            "/usr/local/lib/python3.7/dist-packages/joblib/externals/loky/process_executor.py:691: UserWarning: A worker stopped while some jobs were given to the executor. This can be caused by a too short worker timeout or by a memory leak.\n",
            "  \"timeout or by a memory leak.\", UserWarning\n",
            "[Parallel(n_jobs=-1)]: Done  37 tasks      | elapsed:  4.3min\n",
            "[Parallel(n_jobs=-1)]: Done 158 tasks      | elapsed: 18.8min\n",
            "[Parallel(n_jobs=-1)]: Done 300 out of 300 | elapsed: 34.1min finished\n"
          ],
          "name": "stderr"
        },
        {
          "output_type": "execute_result",
          "data": {
            "text/plain": [
              "RandomizedSearchCV(cv=3, error_score=nan,\n",
              "                   estimator=RandomForestClassifier(bootstrap=True,\n",
              "                                                    ccp_alpha=0.0,\n",
              "                                                    class_weight=None,\n",
              "                                                    criterion='gini',\n",
              "                                                    max_depth=None,\n",
              "                                                    max_features='auto',\n",
              "                                                    max_leaf_nodes=None,\n",
              "                                                    max_samples=None,\n",
              "                                                    min_impurity_decrease=0.0,\n",
              "                                                    min_impurity_split=None,\n",
              "                                                    min_samples_leaf=1,\n",
              "                                                    min_samples_split=2,\n",
              "                                                    min_weight_fraction_leaf=0.0,\n",
              "                                                    n_estimators=10,\n",
              "                                                    n_jobs=...\n",
              "                   param_distributions={'bootstrap': [True, False],\n",
              "                                        'max_depth': [10, 20, 30, 40, 50, 60,\n",
              "                                                      70, 80, 90, 100, 110,\n",
              "                                                      None],\n",
              "                                        'max_features': ['auto', 'sqrt'],\n",
              "                                        'min_samples_leaf': [1, 2, 4],\n",
              "                                        'min_samples_split': [2, 5, 10],\n",
              "                                        'n_estimators': [200, 400, 600, 800,\n",
              "                                                         1000, 1200, 1400, 1600,\n",
              "                                                         1800, 2000]},\n",
              "                   pre_dispatch='2*n_jobs', random_state=42, refit=True,\n",
              "                   return_train_score=False, scoring=None, verbose=2)"
            ]
          },
          "metadata": {
            "tags": []
          },
          "execution_count": 74
        }
      ]
    },
    {
      "cell_type": "code",
      "metadata": {
        "id": "Xh_ymN63ZtZA"
      },
      "source": [
        "# Predict test values using newly trained model\n",
        "yhat = rf.predict(X_test)"
      ],
      "execution_count": null,
      "outputs": []
    },
    {
      "cell_type": "code",
      "metadata": {
        "colab": {
          "base_uri": "https://localhost:8080/"
        },
        "id": "XYbAUOHwh-D2",
        "outputId": "509be6b7-546d-4413-90ac-eef5e8875498"
      },
      "source": [
        "# Classification report\n",
        "t0 = time()\n",
        "y_pred = rf.predict(X_test)\n",
        "print(\"done in %0.3fs\" % (time() - t0))\n",
        "print(classification_report(y_test, y_pred))"
      ],
      "execution_count": null,
      "outputs": [
        {
          "output_type": "stream",
          "text": [
            "done in 0.007s\n",
            "              precision    recall  f1-score   support\n",
            "\n",
            "           0       0.42      0.51      0.46       312\n",
            "           1       0.41      0.47      0.44       349\n",
            "           2       0.46      0.34      0.39       163\n",
            "           3       0.38      0.09      0.15        32\n",
            "           4       0.46      0.36      0.40       210\n",
            "\n",
            "    accuracy                           0.43      1066\n",
            "   macro avg       0.43      0.35      0.37      1066\n",
            "weighted avg       0.43      0.43      0.42      1066\n",
            "\n"
          ],
          "name": "stdout"
        }
      ]
    },
    {
      "cell_type": "code",
      "metadata": {
        "colab": {
          "base_uri": "https://localhost:8080/",
          "height": 412
        },
        "id": "GsMxaZ_MiCA6",
        "outputId": "48b3fa1d-61f1-477f-a02a-33a2487f1e9b"
      },
      "source": [
        "# Plot of confusion matrix \n",
        "cnf_matrix = confusion_matrix(y_test, yhat, labels=[0,1,2,3,4])\n",
        "plt.figure()\n",
        "plot_confusion_matrix(cnf_matrix, classes=['0','1','2','3','4'],normalize= False,  title='Confusion matrix')"
      ],
      "execution_count": null,
      "outputs": [
        {
          "output_type": "stream",
          "text": [
            "Confusion matrix, without normalization\n",
            "[[160 105  26   0  21]\n",
            " [108 163  19   3  56]\n",
            " [ 56  41  55   1  10]\n",
            " [ 10   7  11   3   1]\n",
            " [ 46  80   8   1  75]]\n"
          ],
          "name": "stdout"
        },
        {
          "output_type": "display_data",
          "data": {
            "image/png": "[encoded data removed]",
            "text/plain": [
              "<Figure size 432x288 with 2 Axes>"
            ]
          },
          "metadata": {
            "tags": [],
            "needs_background": "light"
          }
        }
      ]
    }
  ]
}