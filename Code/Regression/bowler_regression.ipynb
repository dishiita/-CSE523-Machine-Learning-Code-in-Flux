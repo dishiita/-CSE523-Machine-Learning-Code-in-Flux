{
  "nbformat": 4,
  "nbformat_minor": 0,
  "metadata": {
    "colab": {
      "name": "bowler_regression.ipynb",
      "provenance": [],
      "collapsed_sections": []
    },
    "kernelspec": {
      "name": "python3",
      "display_name": "Python 3"
    }
  },
  "cells": [
    {
      "cell_type": "markdown",
      "metadata": {
        "id": "AEvvF0VZkFbN"
      },
      "source": [
        "## Regression on bowler features"
      ]
    },
    {
      "cell_type": "code",
      "metadata": {
        "id": "GSYdLFbtLvOC"
      },
      "source": [
        "import pandas as pd\n",
        "import numpy as np\n",
        "from sklearn.linear_model import LinearRegression\n",
        "from sklearn import preprocessing\n",
        "from sklearn.metrics import mean_squared_error\n",
        "from sklearn.ensemble import RandomForestRegressor\n",
        "import matplotlib.pyplot as plt\n",
        "from math import sqrt\n",
        "from sklearn.metrics import mean_squared_error as MSE \n",
        "from sklearn.metrics import r2_score\n",
        "from sklearn.model_selection import cross_val_score"
      ],
      "execution_count": null,
      "outputs": []
    },
    {
      "cell_type": "markdown",
      "metadata": {
        "id": "zfmx5-3ckWWJ"
      },
      "source": [
        "1. Read data from Bowler dataset"
      ]
    },
    {
      "cell_type": "code",
      "metadata": {
        "colab": {
          "base_uri": "https://localhost:8080/",
          "height": 842
        },
        "id": "S3rBt2c9MvZr",
        "outputId": "8732d086-3015-420d-fee0-edc51082fb3b"
      },
      "source": [
        "df1 = pd.read_csv('bowler_all3.csv')\n",
        "\n",
        "# Drop unwanted columns\n",
        "df1 = df1.drop(columns=['catch','Direct_runout','Indirect_runout','Stumping','lbw/bowled'])\n",
        "df1"
      ],
      "execution_count": null,
      "outputs": [
        {
          "output_type": "execute_result",
          "data": {
            "text/html": [
              "<div>\n",
              "<style scoped>\n",
              "    .dataframe tbody tr th:only-of-type {\n",
              "        vertical-align: middle;\n",
              "    }\n",
              "\n",
              "    .dataframe tbody tr th {\n",
              "        vertical-align: top;\n",
              "    }\n",
              "\n",
              "    .dataframe thead th {\n",
              "        text-align: right;\n",
              "    }\n",
              "</style>\n",
              "<table border=\"1\" class=\"dataframe\">\n",
              "  <thead>\n",
              "    <tr style=\"text-align: right;\">\n",
              "      <th></th>\n",
              "      <th>match_id</th>\n",
              "      <th>bowler</th>\n",
              "      <th>inning</th>\n",
              "      <th>batting_team</th>\n",
              "      <th>total_bowler_runs</th>\n",
              "      <th>maiden</th>\n",
              "      <th>economy</th>\n",
              "      <th>overs</th>\n",
              "      <th>wickets</th>\n",
              "      <th>venue</th>\n",
              "      <th>fp_points</th>\n",
              "      <th>fp_avg</th>\n",
              "      <th>opp_avg</th>\n",
              "      <th>ven_avg</th>\n",
              "      <th>inn_avg</th>\n",
              "      <th>run_avg</th>\n",
              "      <th>eco_avg</th>\n",
              "      <th>maiden_avg</th>\n",
              "      <th>wicket_avg</th>\n",
              "      <th>over_avg</th>\n",
              "    </tr>\n",
              "  </thead>\n",
              "  <tbody>\n",
              "    <tr>\n",
              "      <th>0</th>\n",
              "      <td>1</td>\n",
              "      <td>P Kumar</td>\n",
              "      <td>1</td>\n",
              "      <td>Kolkata Knight Riders</td>\n",
              "      <td>38.0</td>\n",
              "      <td>0.0</td>\n",
              "      <td>9.500000</td>\n",
              "      <td>4</td>\n",
              "      <td>0</td>\n",
              "      <td>M Chinnaswamy Stadium</td>\n",
              "      <td>8.0</td>\n",
              "      <td>0.000000</td>\n",
              "      <td>8.000000</td>\n",
              "      <td>8.000000</td>\n",
              "      <td>8.000000</td>\n",
              "      <td>38.000000</td>\n",
              "      <td>9.500000</td>\n",
              "      <td>0.000000</td>\n",
              "      <td>0.000000</td>\n",
              "      <td>4.000000</td>\n",
              "    </tr>\n",
              "    <tr>\n",
              "      <th>1</th>\n",
              "      <td>1</td>\n",
              "      <td>I Sharma</td>\n",
              "      <td>2</td>\n",
              "      <td>Royal Challengers Bangalore</td>\n",
              "      <td>7.0</td>\n",
              "      <td>0.0</td>\n",
              "      <td>2.333333</td>\n",
              "      <td>3</td>\n",
              "      <td>1</td>\n",
              "      <td>M Chinnaswamy Stadium</td>\n",
              "      <td>39.0</td>\n",
              "      <td>0.000000</td>\n",
              "      <td>39.000000</td>\n",
              "      <td>39.000000</td>\n",
              "      <td>39.000000</td>\n",
              "      <td>7.000000</td>\n",
              "      <td>2.333333</td>\n",
              "      <td>0.000000</td>\n",
              "      <td>1.000000</td>\n",
              "      <td>3.000000</td>\n",
              "    </tr>\n",
              "    <tr>\n",
              "      <th>2</th>\n",
              "      <td>1</td>\n",
              "      <td>AB Agarkar</td>\n",
              "      <td>2</td>\n",
              "      <td>Royal Challengers Bangalore</td>\n",
              "      <td>25.0</td>\n",
              "      <td>0.0</td>\n",
              "      <td>6.250000</td>\n",
              "      <td>4</td>\n",
              "      <td>3</td>\n",
              "      <td>M Chinnaswamy Stadium</td>\n",
              "      <td>87.0</td>\n",
              "      <td>0.000000</td>\n",
              "      <td>87.000000</td>\n",
              "      <td>87.000000</td>\n",
              "      <td>87.000000</td>\n",
              "      <td>25.000000</td>\n",
              "      <td>6.250000</td>\n",
              "      <td>0.000000</td>\n",
              "      <td>3.000000</td>\n",
              "      <td>4.000000</td>\n",
              "    </tr>\n",
              "    <tr>\n",
              "      <th>3</th>\n",
              "      <td>1</td>\n",
              "      <td>AB Dinda</td>\n",
              "      <td>2</td>\n",
              "      <td>Royal Challengers Bangalore</td>\n",
              "      <td>9.0</td>\n",
              "      <td>0.0</td>\n",
              "      <td>3.000000</td>\n",
              "      <td>3</td>\n",
              "      <td>2</td>\n",
              "      <td>M Chinnaswamy Stadium</td>\n",
              "      <td>64.0</td>\n",
              "      <td>0.000000</td>\n",
              "      <td>64.000000</td>\n",
              "      <td>64.000000</td>\n",
              "      <td>64.000000</td>\n",
              "      <td>9.000000</td>\n",
              "      <td>3.000000</td>\n",
              "      <td>0.000000</td>\n",
              "      <td>2.000000</td>\n",
              "      <td>3.000000</td>\n",
              "    </tr>\n",
              "    <tr>\n",
              "      <th>4</th>\n",
              "      <td>1</td>\n",
              "      <td>Z Khan</td>\n",
              "      <td>1</td>\n",
              "      <td>Kolkata Knight Riders</td>\n",
              "      <td>38.0</td>\n",
              "      <td>0.0</td>\n",
              "      <td>9.500000</td>\n",
              "      <td>4</td>\n",
              "      <td>1</td>\n",
              "      <td>M Chinnaswamy Stadium</td>\n",
              "      <td>25.0</td>\n",
              "      <td>0.000000</td>\n",
              "      <td>25.000000</td>\n",
              "      <td>25.000000</td>\n",
              "      <td>25.000000</td>\n",
              "      <td>38.000000</td>\n",
              "      <td>9.500000</td>\n",
              "      <td>0.000000</td>\n",
              "      <td>1.000000</td>\n",
              "      <td>4.000000</td>\n",
              "    </tr>\n",
              "    <tr>\n",
              "      <th>...</th>\n",
              "      <td>...</td>\n",
              "      <td>...</td>\n",
              "      <td>...</td>\n",
              "      <td>...</td>\n",
              "      <td>...</td>\n",
              "      <td>...</td>\n",
              "      <td>...</td>\n",
              "      <td>...</td>\n",
              "      <td>...</td>\n",
              "      <td>...</td>\n",
              "      <td>...</td>\n",
              "      <td>...</td>\n",
              "      <td>...</td>\n",
              "      <td>...</td>\n",
              "      <td>...</td>\n",
              "      <td>...</td>\n",
              "      <td>...</td>\n",
              "      <td>...</td>\n",
              "      <td>...</td>\n",
              "      <td>...</td>\n",
              "    </tr>\n",
              "    <tr>\n",
              "      <th>5324</th>\n",
              "      <td>786</td>\n",
              "      <td>A Nortje</td>\n",
              "      <td>2</td>\n",
              "      <td>Rajasthan Royals</td>\n",
              "      <td>33.0</td>\n",
              "      <td>0.0</td>\n",
              "      <td>8.250000</td>\n",
              "      <td>4</td>\n",
              "      <td>2</td>\n",
              "      <td>Dubai International Cricket Stadium</td>\n",
              "      <td>66.0</td>\n",
              "      <td>30.333333</td>\n",
              "      <td>46.500000</td>\n",
              "      <td>47.500000</td>\n",
              "      <td>44.857143</td>\n",
              "      <td>29.375000</td>\n",
              "      <td>7.343750</td>\n",
              "      <td>0.000000</td>\n",
              "      <td>1.250000</td>\n",
              "      <td>4.000000</td>\n",
              "    </tr>\n",
              "    <tr>\n",
              "      <th>5325</th>\n",
              "      <td>786</td>\n",
              "      <td>JD Unadkat</td>\n",
              "      <td>1</td>\n",
              "      <td>Delhi Capitals</td>\n",
              "      <td>32.0</td>\n",
              "      <td>0.0</td>\n",
              "      <td>10.666667</td>\n",
              "      <td>3</td>\n",
              "      <td>2</td>\n",
              "      <td>Dubai International Cricket Stadium</td>\n",
              "      <td>48.0</td>\n",
              "      <td>30.333333</td>\n",
              "      <td>24.000000</td>\n",
              "      <td>33.200000</td>\n",
              "      <td>37.250000</td>\n",
              "      <td>30.435897</td>\n",
              "      <td>8.876068</td>\n",
              "      <td>0.038462</td>\n",
              "      <td>1.128205</td>\n",
              "      <td>3.500000</td>\n",
              "    </tr>\n",
              "    <tr>\n",
              "      <th>5326</th>\n",
              "      <td>786</td>\n",
              "      <td>JC Archer</td>\n",
              "      <td>1</td>\n",
              "      <td>Delhi Capitals</td>\n",
              "      <td>19.0</td>\n",
              "      <td>0.0</td>\n",
              "      <td>4.750000</td>\n",
              "      <td>4</td>\n",
              "      <td>3</td>\n",
              "      <td>Dubai International Cricket Stadium</td>\n",
              "      <td>109.0</td>\n",
              "      <td>47.000000</td>\n",
              "      <td>63.333333</td>\n",
              "      <td>66.666667</td>\n",
              "      <td>55.789474</td>\n",
              "      <td>28.482759</td>\n",
              "      <td>7.160920</td>\n",
              "      <td>0.103448</td>\n",
              "      <td>1.344828</td>\n",
              "      <td>3.965517</td>\n",
              "    </tr>\n",
              "    <tr>\n",
              "      <th>5327</th>\n",
              "      <td>786</td>\n",
              "      <td>R Tewatia</td>\n",
              "      <td>1</td>\n",
              "      <td>Delhi Capitals</td>\n",
              "      <td>23.0</td>\n",
              "      <td>0.0</td>\n",
              "      <td>7.666667</td>\n",
              "      <td>3</td>\n",
              "      <td>0</td>\n",
              "      <td>Dubai International Cricket Stadium</td>\n",
              "      <td>8.0</td>\n",
              "      <td>30.000000</td>\n",
              "      <td>40.000000</td>\n",
              "      <td>13.666667</td>\n",
              "      <td>27.307692</td>\n",
              "      <td>20.576923</td>\n",
              "      <td>7.791667</td>\n",
              "      <td>0.038462</td>\n",
              "      <td>0.846154</td>\n",
              "      <td>2.807692</td>\n",
              "    </tr>\n",
              "    <tr>\n",
              "      <th>5328</th>\n",
              "      <td>786</td>\n",
              "      <td>K Rabada</td>\n",
              "      <td>2</td>\n",
              "      <td>Rajasthan Royals</td>\n",
              "      <td>28.0</td>\n",
              "      <td>0.0</td>\n",
              "      <td>7.000000</td>\n",
              "      <td>4</td>\n",
              "      <td>1</td>\n",
              "      <td>Dubai International Cricket Stadium</td>\n",
              "      <td>27.0</td>\n",
              "      <td>91.000000</td>\n",
              "      <td>72.333333</td>\n",
              "      <td>73.500000</td>\n",
              "      <td>60.000000</td>\n",
              "      <td>30.653846</td>\n",
              "      <td>7.836538</td>\n",
              "      <td>0.000000</td>\n",
              "      <td>2.076923</td>\n",
              "      <td>3.923077</td>\n",
              "    </tr>\n",
              "  </tbody>\n",
              "</table>\n",
              "<p>5329 rows × 20 columns</p>\n",
              "</div>"
            ],
            "text/plain": [
              "      match_id      bowler  inning  ... maiden_avg  wicket_avg  over_avg\n",
              "0            1     P Kumar       1  ...   0.000000    0.000000  4.000000\n",
              "1            1    I Sharma       2  ...   0.000000    1.000000  3.000000\n",
              "2            1  AB Agarkar       2  ...   0.000000    3.000000  4.000000\n",
              "3            1    AB Dinda       2  ...   0.000000    2.000000  3.000000\n",
              "4            1      Z Khan       1  ...   0.000000    1.000000  4.000000\n",
              "...        ...         ...     ...  ...        ...         ...       ...\n",
              "5324       786    A Nortje       2  ...   0.000000    1.250000  4.000000\n",
              "5325       786  JD Unadkat       1  ...   0.038462    1.128205  3.500000\n",
              "5326       786   JC Archer       1  ...   0.103448    1.344828  3.965517\n",
              "5327       786   R Tewatia       1  ...   0.038462    0.846154  2.807692\n",
              "5328       786    K Rabada       2  ...   0.000000    2.076923  3.923077\n",
              "\n",
              "[5329 rows x 20 columns]"
            ]
          },
          "metadata": {
            "tags": []
          },
          "execution_count": 2
        }
      ]
    },
    {
      "cell_type": "markdown",
      "metadata": {
        "id": "LxVGXb9SkgrZ"
      },
      "source": [
        "2. Encoding Categorical values into Numerical Values"
      ]
    },
    {
      "cell_type": "code",
      "metadata": {
        "colab": {
          "base_uri": "https://localhost:8080/",
          "height": 438
        },
        "id": "i9L5ZJcIM7kf",
        "outputId": "392a0499-9cdb-449b-c207-1b06a17d000b"
      },
      "source": [
        "df=df1\n",
        "df[\"batting_team\"]= df[\"batting_team\"].astype(\"category\")\n",
        "df[\"batting_team_code\"] = df[\"batting_team\"].cat.codes\n",
        "\n",
        "df[\"venue\"]= df[\"venue\"].astype(\"category\")\n",
        "df[\"venue_code\"] = df[\"venue\"].cat.codes\n",
        "\n",
        "df[\"bowler\"]= df[\"bowler\"].astype(\"category\")\n",
        "df[\"bowler_code\"] = df[\"bowler\"].cat.codes\n",
        "\n",
        "# Dictionary of Bowler name to respective code\n",
        "bowler_zip = dict(zip(df['bowler_code'],df['bowler']))\n",
        "print(bowler_zip)\n",
        "\n",
        "# Drop Unnecessary columns\n",
        "df_ready = df.drop(columns=[\"venue\",\"batting_team\",\"bowler\"])\n",
        "df_ready"
      ],
      "execution_count": null,
      "outputs": [
        {
          "output_type": "stream",
          "text": [
            "{141: 'P Kumar', 71: 'I Sharma', 10: 'AB Agarkar', 11: 'AB Dinda', 221: 'Z Khan', 179: 'S Sreesanth', 215: 'WA Mota', 112: 'M Muralitharan', 139: 'P Amarnath', 125: 'MS Gony', 33: 'B Lee', 123: 'MM Patel', 186: 'SK Warne', 185: 'SK Trivedi', 50: 'D Salunkhe', 30: 'B Geeves', 62: 'GD McGrath', 109: 'M Kartik', 148: 'PP Ojha', 161: 'RP Singh', 217: 'WPUJC Vaas', 58: 'DS Kulkarni', 155: 'R Vinay Kumar', 4: 'A Nehra', 67: 'Harbhajan Singh', 29: 'B Akhil', 150: 'Pankaj Singh', 127: 'Mohammad Asif', 214: 'VS Yeligati', 116: 'MA Khote', 49: 'D Kalyankrishna', 212: 'VRV Singh', 197: 'Sohail Tanvir', 1: 'A Kumble', 55: 'DNT Zoysa', 59: 'DW Steyn', 47: 'CRD Fernando', 209: 'Umar Gul', 64: 'Gagandeep Singh', 147: 'PJ Sangwan', 113: 'M Ntini', 57: 'DP Vijaykumar', 104: 'L Balaji', 2: 'A Mishra', 196: 'Shoaib Akhtar', 22: 'Abdur Razzak', 163: 'RR Powar', 5: 'A Nel', 36: 'BAW Mendis', 200: 'T Henderson', 101: 'Kamran Khan', 203: 'T Thushara', 187: 'SL Malinga', 219: 'YA Abdulla', 56: 'DP Nannes', 16: 'AM Salvi', 213: 'VS Malik', 60: 'FH Edwards', 68: 'Harmeet Singh', 26: 'Anureet Singh', 162: 'RR Bose', 98: 'KP Appanna', 195: 'Shoaib Ahmed', 180: 'S Tyagi', 182: 'SB Jakati', 189: 'SM Harwood', 159: 'RJ Harris', 7: 'A Singh', 111: 'M Morkel', 3: 'A Mithun', 42: 'C Nanda', 126: 'Mashrafe Mortaza', 46: 'CK Langeveldt', 86: 'Jaskaran Singh', 156: 'RA Shaikh', 14: 'AG Murtaza', 193: 'SW Tait', 172: 'S Ladda', 183: 'SE Bond', 208: 'UT Yadav', 184: 'SJ Srivastava', 152: 'R Sharma', 77: 'J Theron', 91: 'KAJ Roach', 41: 'C Ganapathy', 119: 'MB Parmar', 52: 'DE Bollinger', 80: 'JD Unadkat', 18: 'AP Dole', 17: 'AN Ahmed', 103: 'L Ablish', 134: 'ND Doshi', 205: 'TG Southee', 177: 'S Randiv', 21: 'AUK Pathan', 12: 'AC Thomas', 216: 'WD Parnell', 135: 'NJ Rimmington', 175: 'S Nadeem', 35: 'BA Bhatt', 168: 'S Aravind', 76: 'J Syed Mohammad', 211: 'VR Aaron', 81: 'JE Taylor', 136: 'NL McCullum', 97: 'KMDN Kulasekara', 143: 'P Parameswaran', 70: 'I Malhotra', 31: 'B Kumar', 9: 'AA Kazi', 24: 'Anand Rajan', 176: 'S Rana', 164: 'RW Price', 115: 'M de Lange', 25: 'Ankit Sharma', 66: 'HV Patel', 51: 'DAJ Bracewell', 140: 'P Awana', 45: 'CJ McKay', 210: 'V Pratap Singh', 142: 'P Negi', 160: 'RJ Peterson', 153: 'R Shukla', 39: 'BW Hilfenhaus', 90: 'K Upadhyay', 198: 'Sunny Gupta', 82: 'JJ Bumrah', 120: 'MG Johnson', 169: 'S Badree', 32: 'B Laughlin', 20: 'AS Rajpoot', 128: 'Mohammed Shami', 170: 'S Kaul', 124: 'MM Sharma', 151: 'R Rampaul', 99: 'KV Sharma', 190: 'SMSM Senanayake', 72: 'IC Pandey', 220: 'YS Chahal', 100: 'KW Richardson', 145: 'P Suyal', 149: 'PV Tambe', 194: 'Sandeep Sharma', 137: 'NM Coulter-Nile', 117: 'MA Starc', 154: 'R Tewatia', 74: 'Imran Tahir', 38: 'BE Hendricks', 89: 'K Santokie', 146: 'PJ Cummins', 122: 'MJ McClenaghan', 53: 'DJ Muthuswami', 92: 'KC Cariappa', 181: 'SA Abbott', 204: 'TA Boult', 75: 'J Suchith', 158: 'RG More', 191: 'SN Thakur', 63: 'GS Sandhu', 78: 'J Yadav', 37: 'BB Sran', 108: 'M Ashwin', 131: 'Mustafizur Rahman', 13: 'AF Milne', 102: 'Kuldeep Yadav', 93: 'KJ Abbott', 202: 'T Shamsi', 171: 'S Kaushik', 188: 'SM Boland', 199: 'Swapnil Singh', 8: 'A Zampa', 44: 'CJ Jordan', 54: 'DL Chahar', 165: 'Rashid Khan', 206: 'TS Mills', 0: 'A Choudhary', 34: 'B Stanlake', 201: 'T Natarajan', 157: 'RD Chahar', 40: 'Basil Thampi', 207: 'Tejas Baroka', 107: 'LH Ferguson', 15: 'AJ Tye', 129: 'Mohammed Siraj', 88: 'K Rabada', 133: 'NB Singh', 121: 'MJ Henry', 28: 'Avesh Khan', 132: 'NA Saini', 114: 'M Prasidh Krishna', 166: 'Rasikh Salam', 130: 'Mujeeb Ur Rahman', 79: 'JC Archer', 61: 'GC Viljoen', 48: 'CV Varun', 110: 'M Markande', 173: 'S Lamichhane', 144: 'P Ray Barman', 84: 'JP Behrendorff', 19: 'AS Joseph', 65: 'HF Gurney', 174: 'S Midhun', 94: 'KK Ahmed', 23: 'Abhishek Sharma', 73: 'IS Sodhi', 27: 'Arshdeep Singh', 118: 'MA Wood', 87: 'K Khejroliya', 106: 'LE Plunkett', 105: 'L Ngidi', 96: 'KM Asif', 43: 'CJ Dala', 69: 'Harpreet Brar', 218: 'Y Prithvi Raj', 138: 'O Thomas', 178: 'S Sandeep Warrier', 83: 'JL Pattinson', 6: 'A Nortje', 167: 'Ravi Bishnoi', 192: 'SS Cottrell', 85: 'JR Hazlewood', 95: 'KL Nagarkoti'}\n"
          ],
          "name": "stdout"
        },
        {
          "output_type": "execute_result",
          "data": {
            "text/html": [
              "<div>\n",
              "<style scoped>\n",
              "    .dataframe tbody tr th:only-of-type {\n",
              "        vertical-align: middle;\n",
              "    }\n",
              "\n",
              "    .dataframe tbody tr th {\n",
              "        vertical-align: top;\n",
              "    }\n",
              "\n",
              "    .dataframe thead th {\n",
              "        text-align: right;\n",
              "    }\n",
              "</style>\n",
              "<table border=\"1\" class=\"dataframe\">\n",
              "  <thead>\n",
              "    <tr style=\"text-align: right;\">\n",
              "      <th></th>\n",
              "      <th>match_id</th>\n",
              "      <th>inning</th>\n",
              "      <th>total_bowler_runs</th>\n",
              "      <th>maiden</th>\n",
              "      <th>economy</th>\n",
              "      <th>overs</th>\n",
              "      <th>wickets</th>\n",
              "      <th>fp_points</th>\n",
              "      <th>fp_avg</th>\n",
              "      <th>opp_avg</th>\n",
              "      <th>ven_avg</th>\n",
              "      <th>inn_avg</th>\n",
              "      <th>run_avg</th>\n",
              "      <th>eco_avg</th>\n",
              "      <th>maiden_avg</th>\n",
              "      <th>wicket_avg</th>\n",
              "      <th>over_avg</th>\n",
              "      <th>batting_team_code</th>\n",
              "      <th>venue_code</th>\n",
              "      <th>bowler_code</th>\n",
              "    </tr>\n",
              "  </thead>\n",
              "  <tbody>\n",
              "    <tr>\n",
              "      <th>0</th>\n",
              "      <td>1</td>\n",
              "      <td>1</td>\n",
              "      <td>38.0</td>\n",
              "      <td>0.0</td>\n",
              "      <td>9.500000</td>\n",
              "      <td>4</td>\n",
              "      <td>0</td>\n",
              "      <td>8.0</td>\n",
              "      <td>0.000000</td>\n",
              "      <td>8.000000</td>\n",
              "      <td>8.000000</td>\n",
              "      <td>8.000000</td>\n",
              "      <td>38.000000</td>\n",
              "      <td>9.500000</td>\n",
              "      <td>0.000000</td>\n",
              "      <td>0.000000</td>\n",
              "      <td>4.000000</td>\n",
              "      <td>7</td>\n",
              "      <td>14</td>\n",
              "      <td>141</td>\n",
              "    </tr>\n",
              "    <tr>\n",
              "      <th>1</th>\n",
              "      <td>1</td>\n",
              "      <td>2</td>\n",
              "      <td>7.0</td>\n",
              "      <td>0.0</td>\n",
              "      <td>2.333333</td>\n",
              "      <td>3</td>\n",
              "      <td>1</td>\n",
              "      <td>39.0</td>\n",
              "      <td>0.000000</td>\n",
              "      <td>39.000000</td>\n",
              "      <td>39.000000</td>\n",
              "      <td>39.000000</td>\n",
              "      <td>7.000000</td>\n",
              "      <td>2.333333</td>\n",
              "      <td>0.000000</td>\n",
              "      <td>1.000000</td>\n",
              "      <td>3.000000</td>\n",
              "      <td>13</td>\n",
              "      <td>14</td>\n",
              "      <td>71</td>\n",
              "    </tr>\n",
              "    <tr>\n",
              "      <th>2</th>\n",
              "      <td>1</td>\n",
              "      <td>2</td>\n",
              "      <td>25.0</td>\n",
              "      <td>0.0</td>\n",
              "      <td>6.250000</td>\n",
              "      <td>4</td>\n",
              "      <td>3</td>\n",
              "      <td>87.0</td>\n",
              "      <td>0.000000</td>\n",
              "      <td>87.000000</td>\n",
              "      <td>87.000000</td>\n",
              "      <td>87.000000</td>\n",
              "      <td>25.000000</td>\n",
              "      <td>6.250000</td>\n",
              "      <td>0.000000</td>\n",
              "      <td>3.000000</td>\n",
              "      <td>4.000000</td>\n",
              "      <td>13</td>\n",
              "      <td>14</td>\n",
              "      <td>10</td>\n",
              "    </tr>\n",
              "    <tr>\n",
              "      <th>3</th>\n",
              "      <td>1</td>\n",
              "      <td>2</td>\n",
              "      <td>9.0</td>\n",
              "      <td>0.0</td>\n",
              "      <td>3.000000</td>\n",
              "      <td>3</td>\n",
              "      <td>2</td>\n",
              "      <td>64.0</td>\n",
              "      <td>0.000000</td>\n",
              "      <td>64.000000</td>\n",
              "      <td>64.000000</td>\n",
              "      <td>64.000000</td>\n",
              "      <td>9.000000</td>\n",
              "      <td>3.000000</td>\n",
              "      <td>0.000000</td>\n",
              "      <td>2.000000</td>\n",
              "      <td>3.000000</td>\n",
              "      <td>13</td>\n",
              "      <td>14</td>\n",
              "      <td>11</td>\n",
              "    </tr>\n",
              "    <tr>\n",
              "      <th>4</th>\n",
              "      <td>1</td>\n",
              "      <td>1</td>\n",
              "      <td>38.0</td>\n",
              "      <td>0.0</td>\n",
              "      <td>9.500000</td>\n",
              "      <td>4</td>\n",
              "      <td>1</td>\n",
              "      <td>25.0</td>\n",
              "      <td>0.000000</td>\n",
              "      <td>25.000000</td>\n",
              "      <td>25.000000</td>\n",
              "      <td>25.000000</td>\n",
              "      <td>38.000000</td>\n",
              "      <td>9.500000</td>\n",
              "      <td>0.000000</td>\n",
              "      <td>1.000000</td>\n",
              "      <td>4.000000</td>\n",
              "      <td>7</td>\n",
              "      <td>14</td>\n",
              "      <td>221</td>\n",
              "    </tr>\n",
              "    <tr>\n",
              "      <th>...</th>\n",
              "      <td>...</td>\n",
              "      <td>...</td>\n",
              "      <td>...</td>\n",
              "      <td>...</td>\n",
              "      <td>...</td>\n",
              "      <td>...</td>\n",
              "      <td>...</td>\n",
              "      <td>...</td>\n",
              "      <td>...</td>\n",
              "      <td>...</td>\n",
              "      <td>...</td>\n",
              "      <td>...</td>\n",
              "      <td>...</td>\n",
              "      <td>...</td>\n",
              "      <td>...</td>\n",
              "      <td>...</td>\n",
              "      <td>...</td>\n",
              "      <td>...</td>\n",
              "      <td>...</td>\n",
              "      <td>...</td>\n",
              "    </tr>\n",
              "    <tr>\n",
              "      <th>5324</th>\n",
              "      <td>786</td>\n",
              "      <td>2</td>\n",
              "      <td>33.0</td>\n",
              "      <td>0.0</td>\n",
              "      <td>8.250000</td>\n",
              "      <td>4</td>\n",
              "      <td>2</td>\n",
              "      <td>66.0</td>\n",
              "      <td>30.333333</td>\n",
              "      <td>46.500000</td>\n",
              "      <td>47.500000</td>\n",
              "      <td>44.857143</td>\n",
              "      <td>29.375000</td>\n",
              "      <td>7.343750</td>\n",
              "      <td>0.000000</td>\n",
              "      <td>1.250000</td>\n",
              "      <td>4.000000</td>\n",
              "      <td>10</td>\n",
              "      <td>6</td>\n",
              "      <td>6</td>\n",
              "    </tr>\n",
              "    <tr>\n",
              "      <th>5325</th>\n",
              "      <td>786</td>\n",
              "      <td>1</td>\n",
              "      <td>32.0</td>\n",
              "      <td>0.0</td>\n",
              "      <td>10.666667</td>\n",
              "      <td>3</td>\n",
              "      <td>2</td>\n",
              "      <td>48.0</td>\n",
              "      <td>30.333333</td>\n",
              "      <td>24.000000</td>\n",
              "      <td>33.200000</td>\n",
              "      <td>37.250000</td>\n",
              "      <td>30.435897</td>\n",
              "      <td>8.876068</td>\n",
              "      <td>0.038462</td>\n",
              "      <td>1.128205</td>\n",
              "      <td>3.500000</td>\n",
              "      <td>2</td>\n",
              "      <td>6</td>\n",
              "      <td>80</td>\n",
              "    </tr>\n",
              "    <tr>\n",
              "      <th>5326</th>\n",
              "      <td>786</td>\n",
              "      <td>1</td>\n",
              "      <td>19.0</td>\n",
              "      <td>0.0</td>\n",
              "      <td>4.750000</td>\n",
              "      <td>4</td>\n",
              "      <td>3</td>\n",
              "      <td>109.0</td>\n",
              "      <td>47.000000</td>\n",
              "      <td>63.333333</td>\n",
              "      <td>66.666667</td>\n",
              "      <td>55.789474</td>\n",
              "      <td>28.482759</td>\n",
              "      <td>7.160920</td>\n",
              "      <td>0.103448</td>\n",
              "      <td>1.344828</td>\n",
              "      <td>3.965517</td>\n",
              "      <td>2</td>\n",
              "      <td>6</td>\n",
              "      <td>79</td>\n",
              "    </tr>\n",
              "    <tr>\n",
              "      <th>5327</th>\n",
              "      <td>786</td>\n",
              "      <td>1</td>\n",
              "      <td>23.0</td>\n",
              "      <td>0.0</td>\n",
              "      <td>7.666667</td>\n",
              "      <td>3</td>\n",
              "      <td>0</td>\n",
              "      <td>8.0</td>\n",
              "      <td>30.000000</td>\n",
              "      <td>40.000000</td>\n",
              "      <td>13.666667</td>\n",
              "      <td>27.307692</td>\n",
              "      <td>20.576923</td>\n",
              "      <td>7.791667</td>\n",
              "      <td>0.038462</td>\n",
              "      <td>0.846154</td>\n",
              "      <td>2.807692</td>\n",
              "      <td>2</td>\n",
              "      <td>6</td>\n",
              "      <td>154</td>\n",
              "    </tr>\n",
              "    <tr>\n",
              "      <th>5328</th>\n",
              "      <td>786</td>\n",
              "      <td>2</td>\n",
              "      <td>28.0</td>\n",
              "      <td>0.0</td>\n",
              "      <td>7.000000</td>\n",
              "      <td>4</td>\n",
              "      <td>1</td>\n",
              "      <td>27.0</td>\n",
              "      <td>91.000000</td>\n",
              "      <td>72.333333</td>\n",
              "      <td>73.500000</td>\n",
              "      <td>60.000000</td>\n",
              "      <td>30.653846</td>\n",
              "      <td>7.836538</td>\n",
              "      <td>0.000000</td>\n",
              "      <td>2.076923</td>\n",
              "      <td>3.923077</td>\n",
              "      <td>10</td>\n",
              "      <td>6</td>\n",
              "      <td>88</td>\n",
              "    </tr>\n",
              "  </tbody>\n",
              "</table>\n",
              "<p>5329 rows × 20 columns</p>\n",
              "</div>"
            ],
            "text/plain": [
              "      match_id  inning  ...  venue_code  bowler_code\n",
              "0            1       1  ...          14          141\n",
              "1            1       2  ...          14           71\n",
              "2            1       2  ...          14           10\n",
              "3            1       2  ...          14           11\n",
              "4            1       1  ...          14          221\n",
              "...        ...     ...  ...         ...          ...\n",
              "5324       786       2  ...           6            6\n",
              "5325       786       1  ...           6           80\n",
              "5326       786       1  ...           6           79\n",
              "5327       786       1  ...           6          154\n",
              "5328       786       2  ...           6           88\n",
              "\n",
              "[5329 rows x 20 columns]"
            ]
          },
          "metadata": {
            "tags": []
          },
          "execution_count": 3
        }
      ]
    },
    {
      "cell_type": "markdown",
      "metadata": {
        "id": "tXDw5QN_k3py"
      },
      "source": [
        "3. Selecting Features from dataset"
      ]
    },
    {
      "cell_type": "code",
      "metadata": {
        "colab": {
          "base_uri": "https://localhost:8080/",
          "height": 402
        },
        "id": "5nKOyRnOUjJY",
        "outputId": "95ac69af-e14b-49d4-904c-b598a0450795"
      },
      "source": [
        "# Features\n",
        "df2 = df1[['wicket_avg','maiden_avg','eco_avg','inn_avg','ven_avg','opp_avg','fp_avg','over_avg','bowler_code','batting_team_code','venue_code','inning']]\n",
        "df3 = df2\n",
        "df3 "
      ],
      "execution_count": null,
      "outputs": [
        {
          "output_type": "execute_result",
          "data": {
            "text/html": [
              "<div>\n",
              "<style scoped>\n",
              "    .dataframe tbody tr th:only-of-type {\n",
              "        vertical-align: middle;\n",
              "    }\n",
              "\n",
              "    .dataframe tbody tr th {\n",
              "        vertical-align: top;\n",
              "    }\n",
              "\n",
              "    .dataframe thead th {\n",
              "        text-align: right;\n",
              "    }\n",
              "</style>\n",
              "<table border=\"1\" class=\"dataframe\">\n",
              "  <thead>\n",
              "    <tr style=\"text-align: right;\">\n",
              "      <th></th>\n",
              "      <th>wicket_avg</th>\n",
              "      <th>maiden_avg</th>\n",
              "      <th>eco_avg</th>\n",
              "      <th>inn_avg</th>\n",
              "      <th>ven_avg</th>\n",
              "      <th>opp_avg</th>\n",
              "      <th>fp_avg</th>\n",
              "      <th>over_avg</th>\n",
              "      <th>bowler_code</th>\n",
              "      <th>batting_team_code</th>\n",
              "      <th>venue_code</th>\n",
              "      <th>inning</th>\n",
              "    </tr>\n",
              "  </thead>\n",
              "  <tbody>\n",
              "    <tr>\n",
              "      <th>0</th>\n",
              "      <td>0.000000</td>\n",
              "      <td>0.000000</td>\n",
              "      <td>9.500000</td>\n",
              "      <td>8.000000</td>\n",
              "      <td>8.000000</td>\n",
              "      <td>8.000000</td>\n",
              "      <td>0.000000</td>\n",
              "      <td>4.000000</td>\n",
              "      <td>141</td>\n",
              "      <td>7</td>\n",
              "      <td>14</td>\n",
              "      <td>1</td>\n",
              "    </tr>\n",
              "    <tr>\n",
              "      <th>1</th>\n",
              "      <td>1.000000</td>\n",
              "      <td>0.000000</td>\n",
              "      <td>2.333333</td>\n",
              "      <td>39.000000</td>\n",
              "      <td>39.000000</td>\n",
              "      <td>39.000000</td>\n",
              "      <td>0.000000</td>\n",
              "      <td>3.000000</td>\n",
              "      <td>71</td>\n",
              "      <td>13</td>\n",
              "      <td>14</td>\n",
              "      <td>2</td>\n",
              "    </tr>\n",
              "    <tr>\n",
              "      <th>2</th>\n",
              "      <td>3.000000</td>\n",
              "      <td>0.000000</td>\n",
              "      <td>6.250000</td>\n",
              "      <td>87.000000</td>\n",
              "      <td>87.000000</td>\n",
              "      <td>87.000000</td>\n",
              "      <td>0.000000</td>\n",
              "      <td>4.000000</td>\n",
              "      <td>10</td>\n",
              "      <td>13</td>\n",
              "      <td>14</td>\n",
              "      <td>2</td>\n",
              "    </tr>\n",
              "    <tr>\n",
              "      <th>3</th>\n",
              "      <td>2.000000</td>\n",
              "      <td>0.000000</td>\n",
              "      <td>3.000000</td>\n",
              "      <td>64.000000</td>\n",
              "      <td>64.000000</td>\n",
              "      <td>64.000000</td>\n",
              "      <td>0.000000</td>\n",
              "      <td>3.000000</td>\n",
              "      <td>11</td>\n",
              "      <td>13</td>\n",
              "      <td>14</td>\n",
              "      <td>2</td>\n",
              "    </tr>\n",
              "    <tr>\n",
              "      <th>4</th>\n",
              "      <td>1.000000</td>\n",
              "      <td>0.000000</td>\n",
              "      <td>9.500000</td>\n",
              "      <td>25.000000</td>\n",
              "      <td>25.000000</td>\n",
              "      <td>25.000000</td>\n",
              "      <td>0.000000</td>\n",
              "      <td>4.000000</td>\n",
              "      <td>221</td>\n",
              "      <td>7</td>\n",
              "      <td>14</td>\n",
              "      <td>1</td>\n",
              "    </tr>\n",
              "    <tr>\n",
              "      <th>...</th>\n",
              "      <td>...</td>\n",
              "      <td>...</td>\n",
              "      <td>...</td>\n",
              "      <td>...</td>\n",
              "      <td>...</td>\n",
              "      <td>...</td>\n",
              "      <td>...</td>\n",
              "      <td>...</td>\n",
              "      <td>...</td>\n",
              "      <td>...</td>\n",
              "      <td>...</td>\n",
              "      <td>...</td>\n",
              "    </tr>\n",
              "    <tr>\n",
              "      <th>5324</th>\n",
              "      <td>1.250000</td>\n",
              "      <td>0.000000</td>\n",
              "      <td>7.343750</td>\n",
              "      <td>44.857143</td>\n",
              "      <td>47.500000</td>\n",
              "      <td>46.500000</td>\n",
              "      <td>30.333333</td>\n",
              "      <td>4.000000</td>\n",
              "      <td>6</td>\n",
              "      <td>10</td>\n",
              "      <td>6</td>\n",
              "      <td>2</td>\n",
              "    </tr>\n",
              "    <tr>\n",
              "      <th>5325</th>\n",
              "      <td>1.128205</td>\n",
              "      <td>0.038462</td>\n",
              "      <td>8.876068</td>\n",
              "      <td>37.250000</td>\n",
              "      <td>33.200000</td>\n",
              "      <td>24.000000</td>\n",
              "      <td>30.333333</td>\n",
              "      <td>3.500000</td>\n",
              "      <td>80</td>\n",
              "      <td>2</td>\n",
              "      <td>6</td>\n",
              "      <td>1</td>\n",
              "    </tr>\n",
              "    <tr>\n",
              "      <th>5326</th>\n",
              "      <td>1.344828</td>\n",
              "      <td>0.103448</td>\n",
              "      <td>7.160920</td>\n",
              "      <td>55.789474</td>\n",
              "      <td>66.666667</td>\n",
              "      <td>63.333333</td>\n",
              "      <td>47.000000</td>\n",
              "      <td>3.965517</td>\n",
              "      <td>79</td>\n",
              "      <td>2</td>\n",
              "      <td>6</td>\n",
              "      <td>1</td>\n",
              "    </tr>\n",
              "    <tr>\n",
              "      <th>5327</th>\n",
              "      <td>0.846154</td>\n",
              "      <td>0.038462</td>\n",
              "      <td>7.791667</td>\n",
              "      <td>27.307692</td>\n",
              "      <td>13.666667</td>\n",
              "      <td>40.000000</td>\n",
              "      <td>30.000000</td>\n",
              "      <td>2.807692</td>\n",
              "      <td>154</td>\n",
              "      <td>2</td>\n",
              "      <td>6</td>\n",
              "      <td>1</td>\n",
              "    </tr>\n",
              "    <tr>\n",
              "      <th>5328</th>\n",
              "      <td>2.076923</td>\n",
              "      <td>0.000000</td>\n",
              "      <td>7.836538</td>\n",
              "      <td>60.000000</td>\n",
              "      <td>73.500000</td>\n",
              "      <td>72.333333</td>\n",
              "      <td>91.000000</td>\n",
              "      <td>3.923077</td>\n",
              "      <td>88</td>\n",
              "      <td>10</td>\n",
              "      <td>6</td>\n",
              "      <td>2</td>\n",
              "    </tr>\n",
              "  </tbody>\n",
              "</table>\n",
              "<p>5329 rows × 12 columns</p>\n",
              "</div>"
            ],
            "text/plain": [
              "      wicket_avg  maiden_avg   eco_avg  ...  batting_team_code  venue_code  inning\n",
              "0       0.000000    0.000000  9.500000  ...                  7          14       1\n",
              "1       1.000000    0.000000  2.333333  ...                 13          14       2\n",
              "2       3.000000    0.000000  6.250000  ...                 13          14       2\n",
              "3       2.000000    0.000000  3.000000  ...                 13          14       2\n",
              "4       1.000000    0.000000  9.500000  ...                  7          14       1\n",
              "...          ...         ...       ...  ...                ...         ...     ...\n",
              "5324    1.250000    0.000000  7.343750  ...                 10           6       2\n",
              "5325    1.128205    0.038462  8.876068  ...                  2           6       1\n",
              "5326    1.344828    0.103448  7.160920  ...                  2           6       1\n",
              "5327    0.846154    0.038462  7.791667  ...                  2           6       1\n",
              "5328    2.076923    0.000000  7.836538  ...                 10           6       2\n",
              "\n",
              "[5329 rows x 12 columns]"
            ]
          },
          "metadata": {
            "tags": []
          },
          "execution_count": 4
        }
      ]
    },
    {
      "cell_type": "markdown",
      "metadata": {
        "id": "-BGQbCohqBeM"
      },
      "source": [
        "4. Normalization of features "
      ]
    },
    {
      "cell_type": "code",
      "metadata": {
        "colab": {
          "base_uri": "https://localhost:8080/"
        },
        "id": "BtwTU1ioQ7E3",
        "outputId": "09724eaa-488e-4859-8e6d-f8f649395bf3"
      },
      "source": [
        "X = df3.values\n",
        "\n",
        "# Normalization using sklearn library\n",
        "X = preprocessing.StandardScaler().fit(X).transform(X.astype(float))\n",
        "X"
      ],
      "execution_count": null,
      "outputs": [
        {
          "output_type": "execute_result",
          "data": {
            "text/plain": [
              "array([[-2.70680789, -0.5747821 ,  1.42986532, ...,  0.0200465 ,\n",
              "        -0.43502576, -1.00658955],\n",
              "       [-0.32152423, -0.5747821 , -4.77604047, ...,  1.38963335,\n",
              "        -0.43502576,  0.99345359],\n",
              "       [ 4.4490431 , -0.5747821 , -1.38444079, ...,  1.38963335,\n",
              "        -0.43502576,  0.99345359],\n",
              "       ...,\n",
              "       [ 0.50098738,  0.79903013, -0.59563882, ..., -1.12127588,\n",
              "        -1.23332199, -1.00658955],\n",
              "       [-0.68849094, -0.06400576, -0.04944943, ..., -1.12127588,\n",
              "        -1.23332199, -1.00658955],\n",
              "       [ 2.24724279, -0.5747821 , -0.01059314, ...,  0.70483992,\n",
              "        -1.23332199,  0.99345359]])"
            ]
          },
          "metadata": {
            "tags": []
          },
          "execution_count": 5
        }
      ]
    },
    {
      "cell_type": "markdown",
      "metadata": {
        "id": "jGSXgYdzua4d"
      },
      "source": [
        "5. Labels separation"
      ]
    },
    {
      "cell_type": "code",
      "metadata": {
        "colab": {
          "base_uri": "https://localhost:8080/"
        },
        "id": "R4lk01WPRUhE",
        "outputId": "df2f5c56-e150-4c85-82fb-1d804ece8bcd"
      },
      "source": [
        "y = df1['fp_points'].values\n",
        "y"
      ],
      "execution_count": null,
      "outputs": [
        {
          "output_type": "execute_result",
          "data": {
            "text/plain": [
              "array([  8.,  39.,  87., ..., 109.,   8.,  27.])"
            ]
          },
          "metadata": {
            "tags": []
          },
          "execution_count": 6
        }
      ]
    },
    {
      "cell_type": "markdown",
      "metadata": {
        "id": "D3bLETsZuhMv"
      },
      "source": [
        "6. Spliting data into train and test set"
      ]
    },
    {
      "cell_type": "code",
      "metadata": {
        "colab": {
          "base_uri": "https://localhost:8080/"
        },
        "id": "0D6Z2HWYRfis",
        "outputId": "1182ca7f-aa7b-4e98-8f52-55f97587414b"
      },
      "source": [
        "# Randomized split using sklearn in 80:20 ratio\n",
        "from sklearn.model_selection import train_test_split\n",
        "X_train, X_test, y_train, y_test = train_test_split( X, y, test_size=0.2, random_state=4)\n",
        "print ('Train set:', X_train.shape,  y_train.shape)\n",
        "print ('Test set:', X_test.shape,  y_test.shape)"
      ],
      "execution_count": null,
      "outputs": [
        {
          "output_type": "stream",
          "text": [
            "Train set: (4263, 12) (4263,)\n",
            "Test set: (1066, 12) (1066,)\n"
          ],
          "name": "stdout"
        }
      ]
    },
    {
      "cell_type": "markdown",
      "metadata": {
        "id": "0gK5D9iButA3"
      },
      "source": [
        "7. Building Model"
      ]
    },
    {
      "cell_type": "code",
      "metadata": {
        "colab": {
          "base_uri": "https://localhost:8080/"
        },
        "id": "6y1YBPMnV88v",
        "outputId": "4164a61c-55ab-4d85-abdf-f0e286decfe9"
      },
      "source": [
        "# Random Forest Regressor model with 500 trees \n",
        "model_rf = RandomForestRegressor(n_estimators=500, oob_score=True, random_state=100)\n",
        "\n",
        "# Training model\n",
        "model_rf.fit(X_train, y_train) \n",
        "\n",
        "# Testing on train set for train accuracy\n",
        "pred_train_rf= model_rf.predict(X_train)\n",
        "print('Training Accuracy:')\n",
        "print(np.sqrt(mean_squared_error(y_train,pred_train_rf)))   # Mean Square error\n",
        "print(r2_score(y_train, pred_train_rf))                     # R2 Score\n",
        "\n",
        "print()\n",
        "\n",
        "# Testing on test set for accuracy\n",
        "pred_test_rf = model_rf.predict(X_test)\n",
        "print('Test Accuracy:')\n",
        "print(np.sqrt(mean_squared_error(y_test,pred_test_rf)))\n",
        "print(r2_score(y_test, pred_test_rf))"
      ],
      "execution_count": null,
      "outputs": [
        {
          "output_type": "stream",
          "text": [
            "Training Accuracy:\n",
            "7.07400927754113\n",
            "0.9521949706432913\n",
            "\n",
            "Test Accuracy:\n",
            "19.58566934693207\n",
            "0.6658073234066464\n"
          ],
          "name": "stdout"
        }
      ]
    },
    {
      "cell_type": "markdown",
      "metadata": {
        "id": "0Wna_li_rMgR"
      },
      "source": [
        "8. K-fold cross validation to test generalization"
      ]
    },
    {
      "cell_type": "code",
      "metadata": {
        "colab": {
          "base_uri": "https://localhost:8080/"
        },
        "id": "qZsEdg9aJyV4",
        "outputId": "bac9f8ea-f57f-4b83-e3d1-4c98a7068e9b"
      },
      "source": [
        "# K=5 fold\n",
        "\n",
        "scores = cross_val_score(model_rf, X, y, cv=5)\n",
        "print(scores)"
      ],
      "execution_count": null,
      "outputs": [
        {
          "output_type": "stream",
          "text": [
            "[0.80246047 0.64706307 0.5607103  0.59503028 0.62120265]\n"
          ],
          "name": "stdout"
        }
      ]
    },
    {
      "cell_type": "markdown",
      "metadata": {
        "id": "1GEZy-TGrWDA"
      },
      "source": [
        "9. Hyper Parameter Tuning"
      ]
    },
    {
      "cell_type": "code",
      "metadata": {
        "colab": {
          "base_uri": "https://localhost:8080/"
        },
        "id": "rLgZ-ksGR99t",
        "outputId": "d7ed5514-57fa-4b86-b970-0fad4d35ca98"
      },
      "source": [
        "from pprint import pprint\n",
        "\n",
        "# Current parameters of the forest\n",
        "print('Parameters currently in use:\\n')\n",
        "pprint(model_rf.get_params())"
      ],
      "execution_count": null,
      "outputs": [
        {
          "output_type": "stream",
          "text": [
            "Parameters currently in use:\n",
            "\n",
            "{'bootstrap': True,\n",
            " 'ccp_alpha': 0.0,\n",
            " 'criterion': 'mse',\n",
            " 'max_depth': None,\n",
            " 'max_features': 'auto',\n",
            " 'max_leaf_nodes': None,\n",
            " 'max_samples': None,\n",
            " 'min_impurity_decrease': 0.0,\n",
            " 'min_impurity_split': None,\n",
            " 'min_samples_leaf': 1,\n",
            " 'min_samples_split': 2,\n",
            " 'min_weight_fraction_leaf': 0.0,\n",
            " 'n_estimators': 500,\n",
            " 'n_jobs': None,\n",
            " 'oob_score': True,\n",
            " 'random_state': 100,\n",
            " 'verbose': 0,\n",
            " 'warm_start': False}\n"
          ],
          "name": "stdout"
        }
      ]
    },
    {
      "cell_type": "code",
      "metadata": {
        "colab": {
          "base_uri": "https://localhost:8080/"
        },
        "id": "EEtBJHciSBKi",
        "outputId": "d0419b7f-bcd8-49bd-cc4e-00187c32f1c1"
      },
      "source": [
        "# Grid search on all hyper parameters\n",
        "from sklearn.model_selection import RandomizedSearchCV\n",
        "\n",
        "# Number of trees in random forest\n",
        "n_estimators = [int(x) for x in np.linspace(start = 200, stop = 2000, num = 10)]\n",
        "\n",
        "# Number of features to consider at every split\n",
        "max_features = ['auto', 'sqrt']\n",
        "\n",
        "# Maximum number of levels in tree\n",
        "max_depth = [int(x) for x in np.linspace(10, 110, num = 11)]\n",
        "max_depth.append(None)\n",
        "\n",
        "# Minimum number of samples required to split a node\n",
        "min_samples_split = [2, 5, 10]\n",
        "\n",
        "# Minimum number of samples required at each leaf node\n",
        "min_samples_leaf = [1, 2, 4]\n",
        "\n",
        "# Method of selecting samples for training each tree\n",
        "bootstrap = [True, False]\n",
        "\n",
        "# Create the random grid\n",
        "random_grid = {'n_estimators': n_estimators,\n",
        "               'max_features': max_features,\n",
        "               'max_depth': max_depth,\n",
        "               'min_samples_split': min_samples_split,\n",
        "               'min_samples_leaf': min_samples_leaf,\n",
        "               'bootstrap': bootstrap}\n",
        "pprint(random_grid)"
      ],
      "execution_count": null,
      "outputs": [
        {
          "output_type": "stream",
          "text": [
            "{'bootstrap': [True, False],\n",
            " 'max_depth': [10, 20, 30, 40, 50, 60, 70, 80, 90, 100, 110, None],\n",
            " 'max_features': ['auto', 'sqrt'],\n",
            " 'min_samples_leaf': [1, 2, 4],\n",
            " 'min_samples_split': [2, 5, 10],\n",
            " 'n_estimators': [200, 400, 600, 800, 1000, 1200, 1400, 1600, 1800, 2000]}\n"
          ],
          "name": "stdout"
        }
      ]
    },
    {
      "cell_type": "code",
      "metadata": {
        "colab": {
          "base_uri": "https://localhost:8080/"
        },
        "id": "83R4a1FgSGAR",
        "outputId": "491fc794-d553-4718-a3a2-26cd9fddfa31"
      },
      "source": [
        "# Grid search for the model\n",
        "rf_random = RandomizedSearchCV(estimator = model_rf, param_distributions = random_grid, n_iter = 100, cv = 3, verbose=2, random_state=42, n_jobs = -1)\n",
        "# Fit the random search model\n",
        "rf_random.fit(X_train,y_train)"
      ],
      "execution_count": null,
      "outputs": [
        {
          "output_type": "stream",
          "text": [
            "Fitting 3 folds for each of 100 candidates, totalling 300 fits\n"
          ],
          "name": "stdout"
        },
        {
          "output_type": "stream",
          "text": [
            "[Parallel(n_jobs=-1)]: Using backend LokyBackend with 2 concurrent workers.\n",
            "[Parallel(n_jobs=-1)]: Done  37 tasks      | elapsed:  1.1min\n",
            "[Parallel(n_jobs=-1)]: Done 162 tasks      | elapsed:  8.2min\n",
            "/usr/local/lib/python3.7/dist-packages/joblib/externals/loky/process_executor.py:691: UserWarning: A worker stopped while some jobs were given to the executor. This can be caused by a too short worker timeout or by a memory leak.\n",
            "  \"timeout or by a memory leak.\", UserWarning\n",
            "[Parallel(n_jobs=-1)]: Done 300 out of 300 | elapsed: 22.1min finished\n"
          ],
          "name": "stderr"
        },
        {
          "output_type": "execute_result",
          "data": {
            "text/plain": [
              "RandomizedSearchCV(cv=3, error_score=nan,\n",
              "                   estimator=RandomForestRegressor(bootstrap=True,\n",
              "                                                   ccp_alpha=0.0,\n",
              "                                                   criterion='mse',\n",
              "                                                   max_depth=None,\n",
              "                                                   max_features='auto',\n",
              "                                                   max_leaf_nodes=None,\n",
              "                                                   max_samples=None,\n",
              "                                                   min_impurity_decrease=0.0,\n",
              "                                                   min_impurity_split=None,\n",
              "                                                   min_samples_leaf=1,\n",
              "                                                   min_samples_split=2,\n",
              "                                                   min_weight_fraction_leaf=0.0,\n",
              "                                                   n_estimators=500,\n",
              "                                                   n_jobs=None, oob_score=True...\n",
              "                   param_distributions={'bootstrap': [True, False],\n",
              "                                        'max_depth': [10, 20, 30, 40, 50, 60,\n",
              "                                                      70, 80, 90, 100, 110,\n",
              "                                                      None],\n",
              "                                        'max_features': ['auto', 'sqrt'],\n",
              "                                        'min_samples_leaf': [1, 2, 4],\n",
              "                                        'min_samples_split': [2, 5, 10],\n",
              "                                        'n_estimators': [200, 400, 600, 800,\n",
              "                                                         1000, 1200, 1400, 1600,\n",
              "                                                         1800, 2000]},\n",
              "                   pre_dispatch='2*n_jobs', random_state=42, refit=True,\n",
              "                   return_train_score=False, scoring=None, verbose=2)"
            ]
          },
          "metadata": {
            "tags": []
          },
          "execution_count": 14
        }
      ]
    },
    {
      "cell_type": "code",
      "metadata": {
        "colab": {
          "base_uri": "https://localhost:8080/"
        },
        "id": "aGsuvWtcSYHd",
        "outputId": "9b08961d-77a6-48da-8e86-9647f1c288b0"
      },
      "source": [
        "# Print best parameter for the model\n",
        "rf_random.best_params_"
      ],
      "execution_count": null,
      "outputs": [
        {
          "output_type": "execute_result",
          "data": {
            "text/plain": [
              "{'bootstrap': True,\n",
              " 'max_depth': 10,\n",
              " 'max_features': 'auto',\n",
              " 'min_samples_leaf': 1,\n",
              " 'min_samples_split': 5,\n",
              " 'n_estimators': 1600}"
            ]
          },
          "metadata": {
            "tags": []
          },
          "execution_count": 15
        }
      ]
    },
    {
      "cell_type": "code",
      "metadata": {
        "colab": {
          "base_uri": "https://localhost:8080/"
        },
        "id": "ccrZvfaXXmH8",
        "outputId": "ac882ba3-42f9-40ad-8b39-30fbd0d3723f"
      },
      "source": [
        "# Train accuracy for the model with best parameters\n",
        "pred_train_rf= rf_random.predict(X_train)\n",
        "print(np.sqrt(mean_squared_error(y_train,pred_train_rf)))\n",
        "print(r2_score(y_train, pred_train_rf))\n",
        "\n",
        "# Test accuracy for the model with best parameters\n",
        "pred_test_rf = rf_random.predict(X_test)\n",
        "print(np.sqrt(mean_squared_error(y_test,pred_test_rf)))\n",
        "print(r2_score(y_test, pred_test_rf))"
      ],
      "execution_count": null,
      "outputs": [
        {
          "output_type": "stream",
          "text": [
            "13.630730122322543\n",
            "0.8225072666473775\n",
            "19.400329044407712\n",
            "0.6721023652345232\n"
          ],
          "name": "stdout"
        }
      ]
    }
  ]
}